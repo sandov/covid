{
 "cells": [
  {
   "cell_type": "markdown",
   "metadata": {},
   "source": [
    "# Explorando datos mundiales de COVID-19"
   ]
  },
  {
   "cell_type": "code",
   "execution_count": null,
   "metadata": {},
   "outputs": [],
   "source": [
    "%matplotlib notebook\n",
    "import numpy as np\n",
    "import pandas as pd\n",
    "import ipywidgets as widgets\n",
    "from IPython.display import display,clear_output\n",
    "import matplotlib.pyplot as plt"
   ]
  },
  {
   "cell_type": "markdown",
   "metadata": {},
   "source": [
    "## Preparación de datos\n",
    "\n",
    "1. Explore el archivo covid19_confirmados.csv y configure la función read_csv de pandas para importarlo como un DataFrame.\n",
    "    - Utilice el nombre de país como índice principal\n",
    "    - Elimine las columnas Lat y Long\n",
    "    - Use TimeStamps para los \"nombres de columna\" asociados a fechas\n",
    "    - Reduzca la columna Province/State, el DataFrame resultante debe tener los totales a nivel país"
   ]
  },
  {
   "cell_type": "markdown",
   "metadata": {},
   "source": [
    "### Datos de casos confirmados"
   ]
  },
  {
   "cell_type": "markdown",
   "metadata": {},
   "source": [
    "Primero, importamos los datos de casos confirmados a un dataframe"
   ]
  },
  {
   "cell_type": "code",
   "execution_count": null,
   "metadata": {},
   "outputs": [],
   "source": [
    "df_confirmados = pd.read_csv('./data/covid19_confirmados.csv')\n",
    "df_confirmados.head(5)"
   ]
  },
  {
   "cell_type": "markdown",
   "metadata": {},
   "source": [
    "Las primeras cuatro columnas identifican el lugar y las 400 columnas siguientes corresponden al número de casos en ese lugar, durante 400 días consecutivos.\n",
    "\n",
    "Algunos países tienen solo una fila, otros tienen varias, cada una correspondiente a una provincia o estado.\n",
    "\n",
    "Luego, reduciremos la columna 'Province/State' y dejaremos una fila por país. Para facilitar esa reducción, crearemos un MultiIndex con las columnas 'Country/Region' y 'Province/State'."
   ]
  },
  {
   "cell_type": "code",
   "execution_count": null,
   "metadata": {},
   "outputs": [],
   "source": [
    "df_confirmados.set_index(keys=['Country/Region', 'Province/State'], drop=True,inplace=True)"
   ]
  },
  {
   "cell_type": "code",
   "execution_count": null,
   "metadata": {},
   "outputs": [],
   "source": [
    "df_confirmados.head(5)"
   ]
  },
  {
   "cell_type": "markdown",
   "metadata": {},
   "source": [
    "Pero antes de hacer esa reducción, ordenaremos un poco más el dataframe.\n",
    "\n",
    "Eliminamos las columnas \"Lat\" y \"Long\":"
   ]
  },
  {
   "cell_type": "code",
   "execution_count": null,
   "metadata": {},
   "outputs": [],
   "source": [
    "df_confirmados.drop(labels=['Lat', 'Long'], axis=1, inplace=True)"
   ]
  },
  {
   "cell_type": "code",
   "execution_count": null,
   "metadata": {},
   "outputs": [],
   "source": [
    "df_confirmados.head(5)"
   ]
  },
  {
   "cell_type": "markdown",
   "metadata": {},
   "source": [
    "Luego, reinterpretamos las etiquetas de fecha como Timestamps en lugar de simples objetos.\n",
    "\n",
    "Para eso, le aplicamos a cada columna la función `pd.to_datetime`."
   ]
  },
  {
   "cell_type": "code",
   "execution_count": null,
   "metadata": {},
   "outputs": [],
   "source": [
    "df_confirmados.rename(mapper=pd.to_datetime, axis='columns', inplace=True);\n",
    "df_confirmados.head(5)"
   ]
  },
  {
   "cell_type": "markdown",
   "metadata": {},
   "source": [
    "Ahora sí reducimos el índice Province/State, para que quede solo una fila por país. Los valores para cada día serán la suma de casos dentro de las provincias para aquellos países en que habían varias provincias. Para los países que solo tenían una fila, el valor se mantiene. **TO DO**: Revisar que estas operaciones hayan quedado bien calculadas para ambos casos."
   ]
  },
  {
   "cell_type": "code",
   "execution_count": null,
   "metadata": {},
   "outputs": [],
   "source": [
    "df_confirmados = df_confirmados.groupby(by='Country/Region').aggregate(np.sum)"
   ]
  },
  {
   "cell_type": "code",
   "execution_count": null,
   "metadata": {},
   "outputs": [],
   "source": [
    "df_confirmados.head(5)"
   ]
  },
  {
   "cell_type": "markdown",
   "metadata": {},
   "source": [
    "### Datos de población por país"
   ]
  },
  {
   "cell_type": "markdown",
   "metadata": {},
   "source": [
    "Importamos los datos, usando el país como índice principal.\n",
    "\n",
    "Solo importamos los datos de nombre de país y población. No usaremos los otros."
   ]
  },
  {
   "cell_type": "code",
   "execution_count": null,
   "metadata": {
    "scrolled": true
   },
   "outputs": [],
   "source": [
    "df_poblacion = pd.read_csv('./data/population_by_country_2020.csv',usecols=['Country (or dependency)','Population (2020)'],index_col='Country (or dependency)')\n",
    "\n",
    "df_poblacion.head(5)"
   ]
  },
  {
   "cell_type": "markdown",
   "metadata": {},
   "source": [
    "Ordenamos los países por orden alfabético."
   ]
  },
  {
   "cell_type": "code",
   "execution_count": null,
   "metadata": {
    "scrolled": true
   },
   "outputs": [],
   "source": [
    "df_poblacion.sort_index(inplace=True)\n",
    "df_poblacion.head(5)"
   ]
  },
  {
   "cell_type": "markdown",
   "metadata": {},
   "source": [
    "Debemos encontrar las diferencias entre las etiquetas de los índices de los dataframes.\n",
    "\n",
    "Primero, veamos los tamaños de ambos índices."
   ]
  },
  {
   "cell_type": "code",
   "execution_count": null,
   "metadata": {},
   "outputs": [],
   "source": [
    "print('n° filas df confirmados:', len(df_confirmados.index))\n",
    "print('n° filas df población:', len(df_poblacion.index))\n",
    "print('diferencia:', abs(len(df_confirmados.index) - len(df_poblacion.index)))"
   ]
  },
  {
   "cell_type": "markdown",
   "metadata": {},
   "source": [
    "Ahora, veamos qué etiquetas están en el dataframe de confirmados pero no en el de población."
   ]
  },
  {
   "cell_type": "code",
   "execution_count": null,
   "metadata": {
    "scrolled": true
   },
   "outputs": [],
   "source": [
    "df_confirmados.index.difference(df_poblacion.index)"
   ]
  },
  {
   "cell_type": "code",
   "execution_count": null,
   "metadata": {},
   "outputs": [],
   "source": [
    "len(_)"
   ]
  },
  {
   "cell_type": "markdown",
   "metadata": {},
   "source": [
    "Ahora lo contrario, es decir, cuáles están en población pero no en confirmados."
   ]
  },
  {
   "cell_type": "code",
   "execution_count": null,
   "metadata": {},
   "outputs": [],
   "source": [
    "df_poblacion.index.difference(df_confirmados.index)"
   ]
  },
  {
   "cell_type": "code",
   "execution_count": null,
   "metadata": {},
   "outputs": [],
   "source": [
    "len(_)"
   ]
  },
  {
   "cell_type": "markdown",
   "metadata": {},
   "source": [
    "Hay varias diferencias entre los países incluidos en los dataframes. Por ejemplo: en un dataframe se usa el caracter '&' y en otros la palabra 'and' para nombrar a ciertos países. Además, hay diferencias semánticas y políticas en lo que se considera en la columna de los países.\n",
    "\n",
    "En base a estas diferencias implementamos un procedimiento ad hoc para hacer que los países de ambos dataframes coincidan."
   ]
  },
  {
   "cell_type": "code",
   "execution_count": null,
   "metadata": {},
   "outputs": [],
   "source": [
    "# Cambio de algunos símbolos\n",
    "symbolChanges = [\n",
    "    ['&', 'and'],\n",
    "    ['St.', 'Saint'],\n",
    "    ['ô', 'o']\n",
    "]\n",
    "for change in symbolChanges:\n",
    "    df_poblacion.index = [country.replace(change[0], change[1]) for country in df_poblacion.index]\n",
    "\n",
    "\n",
    "# Cambiamos valores específicos\n",
    "fullChanges = [\n",
    "    ['US','United States'],\n",
    "    ['Burma','Myanmar'],\n",
    "    ['Korea, South','South Korea'],\n",
    "    ['Taiwan*','Taiwan'],\n",
    "    ['Congo (Kinshasa)','DR Congo'],\n",
    "    ['Congo (Brazzaville)','Congo'],\n",
    "    ['Czechia','Czech Republic (Czechia)'],\n",
    "    ['Saint Vincent and the Grenadines','Saint Vincent and Grenadines']\n",
    "]\n",
    "\n",
    "for change in fullChanges:  \n",
    "    df_poblacion.index = [change[0] if country == change[1] else country for country in df_poblacion.index]\n",
    "\n",
    "\n",
    "# Incluimos sectores dentro de otros ( sumando población )\n",
    "includeChanges = [\n",
    "    ['France','Wallis and Futuna'],\n",
    "    ['France','New Caledonia'],\n",
    "    ['France','French Guiana'],\n",
    "    ['France','French Polynesia'],\n",
    "    ['France','Guadeloupe'],\n",
    "    ['France','Martinique'],\n",
    "    ['France','Mayotte'],\n",
    "    ['France','Réunion'],\n",
    "    ['France','Saint Barthelemy'],\n",
    "    ['France','Saint Pierre and Miquelon'],\n",
    "    ['Denmark','Faeroe Islands'],\n",
    "    ['Denmark','Greenland'],\n",
    "    ['US','American Samoa'],\n",
    "    ['US','Guam'],\n",
    "    ['US','Northern Mariana Islands'],\n",
    "    ['US','Puerto Rico'],\n",
    "    ['US','U.S. Virgin Islands'],\n",
    "    ['Israel','State of Palestine'],\n",
    "    ['United Kingdom','Falkland Islands'],\n",
    "    ['United Kingdom','Anguilla'],\n",
    "    ['United Kingdom','Bermuda'],\n",
    "    ['United Kingdom','British Virgin Islands'],\n",
    "    ['United Kingdom','Cayman Islands'],\n",
    "    ['United Kingdom','Channel Islands'],\n",
    "    ['United Kingdom','Gibraltar'],\n",
    "    ['United Kingdom','Isle of Man'],\n",
    "    ['United Kingdom','Montserrat'],\n",
    "    ['United Kingdom','Saint Helena'],\n",
    "    ['United Kingdom','Turks and Caicos'],\n",
    "    ['Netherlands','Aruba'],\n",
    "    ['Netherlands','Caribbean Netherlands'],\n",
    "    ['Netherlands','Curaçao'],\n",
    "    ['Netherlands','Sint Maarten'],\n",
    "    ['New Zealand','Cook Islands'],\n",
    "    ['New Zealand','Niue'],\n",
    "    ['New Zealand','Tokelau'],\n",
    "    ['China','Hong Kong'],\n",
    "    ['China','Macao'],\n",
    "    ['Micronesia','Nauru'],\n",
    "    ['Micronesia','Palau'],\n",
    "    ['Morocco','Western Sahara']\n",
    "]\n",
    "\n",
    "for change in includeChanges:  \n",
    "    df_poblacion.index = [change[0] if country == change[1] else country for country in df_poblacion.index]\n",
    "\n",
    "# Suma población de lugares unidos\n",
    "df_poblacion = df_poblacion.groupby(df_poblacion.index).sum()\n",
    "\n",
    "df_poblacion.head(5)"
   ]
  },
  {
   "cell_type": "markdown",
   "metadata": {},
   "source": [
    "3. Haga un merge de los DataFrame anteriores. El objetivo es asignar un valor de Population a cada elemento del primer DataFrame. Indique las filas donde no se puede realizar el merge y luego descártelas de su DataFrame final"
   ]
  },
  {
   "cell_type": "code",
   "execution_count": null,
   "metadata": {},
   "outputs": [],
   "source": [
    "# Elimina lugares en df de población\n",
    "removePop = ['Kiribati', 'North Korea', 'Saint Martin', 'Tonga', 'Turkmenistan', 'Tuvalu']\n",
    "df_poblacion = df_poblacion.drop(removePop,axis=0).sort_index()\n",
    "df_poblacion.head(5)"
   ]
  },
  {
   "cell_type": "code",
   "execution_count": null,
   "metadata": {},
   "outputs": [],
   "source": [
    "# Elimina lugares en df de confirmados\n",
    "removeCon = ['Diamond Princess', 'Kosovo', 'MS Zaandam', 'West Bank and Gaza']\n",
    "df_confirmados = df_confirmados.drop(removeCon,axis=0).sort_index()\n",
    "df_confirmados.head(5)"
   ]
  },
  {
   "cell_type": "code",
   "execution_count": null,
   "metadata": {},
   "outputs": [],
   "source": [
    "# Incluye la población al df de confirmados\n",
    "df_confirmados.insert(0, 'Population', df_poblacion['Population (2020)'])\n",
    "df_confirmados.head(5)"
   ]
  },
  {
   "cell_type": "markdown",
   "metadata": {},
   "source": [
    "4. Repita el procedimiento anterior para los archivos covid19_recuperados.csv y covid19_muertes.csv"
   ]
  },
  {
   "cell_type": "code",
   "execution_count": null,
   "metadata": {},
   "outputs": [],
   "source": [
    "# Importamos datasets\n",
    "df_recuperados = pd.read_csv('./data/covid19_recuperados.csv',index_col='Country/Region')\n",
    "df_muertes = pd.read_csv('./data/covid19_decesos.csv',index_col='Country/Region')\n",
    "\n",
    "# Elimina columnas Lat, Long y Province/State\n",
    "df_recuperados = df_recuperados.drop(['Lat','Long','Province/State'],axis=1)\n",
    "df_muertes = df_muertes.drop(['Lat','Long','Province/State'],axis=1)\n",
    "\n",
    "# Convierte nombre de columnas a datetime64\n",
    "df_recuperados.columns = pd.to_datetime(df_recuperados.columns).tolist()\n",
    "df_muertes.columns = pd.to_datetime(df_muertes.columns).tolist()\n",
    "\n",
    "# Compacta las filas del mismo país en una y suma sus valores\n",
    "df_recuperados = df_recuperados.groupby(\"Country/Region\").sum()\n",
    "df_muertes = df_muertes.groupby(\"Country/Region\").sum()\n",
    "\n",
    "# Elimina Filas Conflictivas\n",
    "df_recuperados = df_recuperados.drop(removeCon,axis=0).sort_index()\n",
    "df_muertes = df_muertes.drop(removeCon,axis=0).sort_index()\n",
    "\n",
    "# Incluye la población\n",
    "df_recuperados.insert(0, 'Population', df_poblacion['Population (2020)'])\n",
    "df_muertes.insert(0, 'Population', df_poblacion['Population (2020)'])"
   ]
  },
  {
   "cell_type": "code",
   "execution_count": null,
   "metadata": {},
   "outputs": [],
   "source": [
    "# Verifica recuperados\n",
    "df_recuperados.head(5)"
   ]
  },
  {
   "cell_type": "code",
   "execution_count": null,
   "metadata": {
    "scrolled": true
   },
   "outputs": [],
   "source": [
    "# Verifica muertes\n",
    "df_muertes.head(5)"
   ]
  },
  {
   "cell_type": "markdown",
   "metadata": {},
   "source": [
    "## Análisis global (1.5pt)\n",
    "1. Obtenga la cantidad total a la fecha (26 de Abril) de los casos (a) confirmados, (b) cerrados (recuperados más decesos) y (c) activos (confirmados menos cerrados) por país. En base a estas cantidades calcule el porcentaje de\n",
    "    - casos activos con respecto al total de confirmados\n",
    "    - decesos con respecto al total de casos cerrados\n",
    "    - recuperados con respecto al total de casos cerrados"
   ]
  },
  {
   "cell_type": "markdown",
   "metadata": {},
   "source": [
    "En los archivos csv, varios países reportan información que podría no ser fidedigna.\n",
    "\n",
    "Por ejemplo, en Suecia ('Sweden') se reportan cero recuperados para todos los días. En otros países, como Estados Unidos ('US'), se reportan cantidades decrecientes de recuperados, lo cual no tiene sentido, ya que los datos supuestamente corresponden a la cantidad acumulada de recuperados. Algo similar ocurre tambien en los archivos de casos confirmados y de muertes\n",
    "\n",
    "Escribimos un procedimiento que modifica los tres dataframes para que no existan deltas negativos al avanzar en el tiempo.\n",
    "\n",
    "Para un determinado día, la información después de corregir los dataframes será el valor máximo que se ha alcanzado considerando ese día y todos los anteriores."
   ]
  },
  {
   "cell_type": "code",
   "execution_count": null,
   "metadata": {},
   "outputs": [],
   "source": [
    "# Reemplazamos deltas negativos por el máximo anterior\n",
    "\n",
    "for row in range(df_confirmados.shape[0]):\n",
    "    for col in range(2,df_confirmados.shape[1]):\n",
    "        if df_confirmados.iloc[row,col] < df_confirmados.iloc[row,col-1]:\n",
    "            df_confirmados.iloc[row,col] = df_confirmados.iloc[row,col-1]\n",
    "        if df_recuperados.iloc[row,col] < df_recuperados.iloc[row,col-1]:\n",
    "            df_recuperados.iloc[row,col] = df_recuperados.iloc[row,col-1]\n",
    "        if df_muertes.iloc[row,col] < df_muertes.iloc[row,col-1]:\n",
    "            df_muertes.iloc[row,col] = df_muertes.iloc[row,col-1]"
   ]
  },
  {
   "cell_type": "code",
   "execution_count": null,
   "metadata": {},
   "outputs": [],
   "source": [
    "# Totales\n",
    "\n",
    "# Calcula casos confirmados globales hasta el 26 de abril\n",
    "total_confirmados = df_confirmados[df_confirmados.columns[-1]]\n",
    "\n",
    "# Calcula casos recuperados globales hasta el 26 de abril\n",
    "total_recuperados = df_recuperados[df_recuperados.columns[-1]]\n",
    "\n",
    "# Calcula decesos globales hasta el 26 de abril\n",
    "total_muertes = df_muertes[df_muertes.columns[-1]]\n",
    "\n",
    "# Calcula casos cerrados (recuperados más decesos) hasta el 26 de abril\n",
    "total_cerrados = total_recuperados + total_muertes\n",
    "\n",
    "# Calcula casos activos (confirmados menos cerrados) hasta el 26 de abril\n",
    "total_activos = total_confirmados - total_cerrados\n",
    "\n",
    "# Porcentajes\n",
    "\n",
    "# Porcentaje de casos activos con respecto al total de confirmados\n",
    "p_activos_confirmados = 100.0 * total_activos.astype('float64')/total_confirmados.astype('float64')\n",
    "\n",
    "# Porcentaje de decesos con respecto al total de casos cerrados\n",
    "p_muertes_cerrados = 100.0 * total_muertes.astype('float64')/total_cerrados.astype('float64')\n",
    "\n",
    "# Porcentaje de recuperados con respecto al total de casos cerrados\n",
    "p_recuperados_cerrados = 100.0 * total_recuperados.astype('float64')/total_cerrados.astype('float64')"
   ]
  },
  {
   "cell_type": "markdown",
   "metadata": {},
   "source": [
    "2. Luego calcule las siguientes tasas en base a información a la fecha\n",
    "    - Tasa de incidencia: confirmados por 100.000 dividido población total\n",
    "    - Tasa de recuperación: recuperados por 100.000 dividido población total\n",
    "    - Tasa de mortalidad: decesos por 100.000 dividido población total"
   ]
  },
  {
   "cell_type": "code",
   "execution_count": null,
   "metadata": {},
   "outputs": [],
   "source": [
    "# Tasas\n",
    "\n",
    "# Población por país (double)\n",
    "poblacion_total = df_poblacion['Population (2020)'].astype('float64')\n",
    "\n",
    "# Tasa de incidencia\n",
    "tasa_incidencia = (100000.0 * total_confirmados)/poblacion_total\n",
    "\n",
    "# Tasa de recuperación\n",
    "tasa_recuperacion = (100000.0 * total_recuperados)/poblacion_total\n",
    "\n",
    "# Tasa de mortalidad\n",
    "tasa_mortalidad = (100000.0 * total_muertes)/poblacion_total"
   ]
  },
  {
   "cell_type": "code",
   "execution_count": null,
   "metadata": {},
   "outputs": [],
   "source": [
    "recuperados_cero = ['US', 'Sweden', 'Serbia', 'Belgium']\n",
    "recuperados_decrecientes = []"
   ]
  },
  {
   "cell_type": "markdown",
   "metadata": {},
   "source": [
    "3. En base a lo anterior muestre los nombres y los valores de los 5 países con\n",
    "    - La mayor y menor tasa de incidencia, respectivamente\n",
    "    - La mayor y menor tasa de recuperación, respectivamente\n",
    "    - La mayor y menor tasa de mortalidad, respectivamente"
   ]
  },
  {
   "cell_type": "code",
   "execution_count": null,
   "metadata": {},
   "outputs": [],
   "source": [
    "# Ordenamos en orden creciente cada df de tasas\n",
    "tasa_incidencia_sorted = tasa_incidencia.sort_values()\n",
    "tasa_recuperacion_sorted = tasa_recuperacion.sort_values()\n",
    "tasa_mortalidad_sorted = tasa_mortalidad.sort_values()\n",
    "\n",
    "# Obtenemos 5 mínimos en cada caso\n",
    "tasa_incidencia_mins = tasa_incidencia_sorted[:5]\n",
    "tasa_recuperacion_mins = tasa_recuperacion_sorted[:9] # Primeros 4 no son confiables\n",
    "tasa_mortalidad_mins = tasa_mortalidad_sorted[:5]\n",
    "\n",
    "# Obtenemos 5 máximos en cada caso\n",
    "tasa_incidencia_maxs = tasa_incidencia_sorted[-5:]\n",
    "tasa_recuperacion_maxs = tasa_recuperacion_sorted[-5:]\n",
    "tasa_mortalidad_maxs = tasa_mortalidad_sorted[-5:]"
   ]
  },
  {
   "cell_type": "code",
   "execution_count": null,
   "metadata": {},
   "outputs": [],
   "source": [
    "# Muestra min y max tasas de incidencia\n",
    "print(\"Paises con tasas de incidencia mínima:\")\n",
    "display(tasa_incidencia_mins)\n",
    "print(\"Paises con tasas de incidencia máxima:\")\n",
    "display(tasa_incidencia_maxs)"
   ]
  },
  {
   "cell_type": "code",
   "execution_count": null,
   "metadata": {},
   "outputs": [],
   "source": [
    "# Muestra min y max tasas de recuperacion\n",
    "print(\"Paises con tasas de recuperación mínima:\")\n",
    "display(tasa_recuperacion_mins)\n",
    "print(\"Paises con tasas de recuperación máxima:\")\n",
    "display(tasa_recuperacion_maxs)"
   ]
  },
  {
   "cell_type": "markdown",
   "metadata": {},
   "source": [
    "Serbia, Bélgica, Suecia y Estados Unidos reportan cero recupardos, y estimamos que esa información podría no ser verídica."
   ]
  },
  {
   "cell_type": "code",
   "execution_count": null,
   "metadata": {},
   "outputs": [],
   "source": [
    "# Muestra min y max tasas de mortalidad\n",
    "print(\"Paises con tasas de mortalidad mínima:\")\n",
    "display(tasa_mortalidad_mins)\n",
    "print(\"Paises con tasas de mortalidad máxima:\")\n",
    "display(tasa_mortalidad_maxs)"
   ]
  },
  {
   "cell_type": "markdown",
   "metadata": {},
   "source": [
    "4. Responda, analice y discuta: ¿En qué lugar/ranking se encuentra Chile con respecto a cada una de las métricas de los puntos anteriores? ¿A qué países de la OCDE se parece más? ¿A qué paises de latinoamérica se parece más?"
   ]
  },
  {
   "cell_type": "code",
   "execution_count": null,
   "metadata": {
    "scrolled": true
   },
   "outputs": [],
   "source": [
    "paises_ocde = ['Australia', 'Austria', 'Belgium', 'Canada', 'Chile', 'Colombia',\n",
    "               'Czechia', 'Denmark', 'Estonia', 'Finland', 'France', 'Germany',\n",
    "               'Greece', 'Hungary', 'Iceland', 'Ireland', 'Israel', 'Italy',\n",
    "               'Japan', 'Korea, South', 'Latvia', 'Lithuania', 'Luxembourg',\n",
    "               'Mexico', 'Netherlands', 'New Zealand', 'Norway', 'Poland',\n",
    "               'Portugal', 'Slovakia', 'Slovenia', 'Spain', 'Sweden',\n",
    "               'Switzerland', 'Turkey', 'US', 'United Kingdom']\n",
    "\n",
    "paises_latam = ['Argentina', 'Argentina', 'Bolivia', 'Brazil', 'Chile',\n",
    "                'Colombia', 'Costa Rica', 'Ecuador', 'El Salvador',\n",
    "                'Guatemala', 'Guyana', 'Honduras', 'Mexico', 'Nicaragua',\n",
    "                'Panama', 'Paraguay', 'Peru', 'Suriname', 'Uruguay',\n",
    "                'Venezuela']"
   ]
  },
  {
   "cell_type": "code",
   "execution_count": null,
   "metadata": {
    "scrolled": false
   },
   "outputs": [],
   "source": [
    "def mostrar_ranking_tasa(tipo, tasa_sorted):\n",
    "    tasa_ocde_sorted = tasa_sorted.loc[paises_ocde].sort_values()\n",
    "    tasa_latam_sorted = tasa_sorted.loc[paises_latam].sort_values()\n",
    "    print('Resumen datos de', tipo, 'a nivel internacional:',\n",
    "          tasa_sorted.describe(), '\\n')\n",
    "    print('Resumen datos de', tipo, 'entre países de la OCDE:',\n",
    "          tasa_ocde_sorted.describe(), '\\n')\n",
    "    print('Resumen datos de', tipo, 'entre países latinoamericanos:',\n",
    "          tasa_latam_sorted.describe(), '\\n')\n",
    "    print('Tasa de', tipo, 'en Chile:', tasa_sorted.at['Chile'])\n",
    "    print('Puesto de Chile en el ranking mundial de', tipo + \":\",\n",
    "          str(tasa_sorted.index.get_loc('Chile')) + '/' +\n",
    "          str(len(tasa_incidencia_sorted.index)))\n",
    "    print('Puesto de Chile entre países de la OCDE en', tipo + \":\",\n",
    "          str(tasa_ocde_sorted.index.get_loc('Chile')) + '/' +\n",
    "          str(len(tasa_ocde_sorted.index)))\n",
    "    print('Puesto de Chile entre países de latinoamérica en', tipo + \":\",\n",
    "          str(tasa_latam_sorted.index.get_loc('Chile')) + '/' +\n",
    "          str(len(tasa_latam_sorted.index)), ' \\n')\n"
   ]
  },
  {
   "cell_type": "code",
   "execution_count": null,
   "metadata": {},
   "outputs": [],
   "source": [
    "mostrar_ranking_tasa('incidencia', tasa_incidencia_sorted)\n",
    "mostrar_ranking_tasa('mortalidad', tasa_mortalidad_sorted)\n",
    "mostrar_ranking_tasa('recuperación', tasa_recuperacion_sorted)"
   ]
  },
  {
   "cell_type": "markdown",
   "metadata": {},
   "source": [
    "A nivel mundial, Chile se encuentra en puestos bastante bajos en incidencia, mortalidad y recuperación.\n",
    "\n",
    "A nivel de la OCDE, se encuentra en puestos intermedios."
   ]
  },
  {
   "cell_type": "markdown",
   "metadata": {},
   "source": [
    "### Análisis temporal y comparativo (2.0pt)\n",
    "1. Construya una interfaz gráfica usando ipywidgets y matplotlib que permita realizar comparaciones entre las series de tiempo de COVID-19 de dos países seleccionados arbitrariamente. A modo de simplificación considere sólo los países de la OCDE. Requerimientos:\n",
    "    - La interfaz debe incluir controles para escoger dos países a partir de una lista\n",
    "    - La interfaz debe incluir tres tabs, el primero debe mostrar las series de tiempo de ambos países de los casos confirmados, el segundo la de recuperados y el tercero la de los decesos, respectivamente. Use una leyenda para indicar el nombre de los países.\n",
    "    - La interfaz debe tener un control que permita escoger entre casos acumulados y casos nuevos\n",
    "    - La interfaz debe tener un control que permita escoger entre valores absolutos y valores relativos (tasas por 100.000 habitantes)\n",
    "    - La interfaz debe tener un control que permita escoger entre valores diarios y valores semanales (acumulados). Para esto último se recomienda usar groupby con una frecuencia lunes a lunes"
   ]
  },
  {
   "cell_type": "code",
   "execution_count": null,
   "metadata": {},
   "outputs": [],
   "source": [
    "# UI Setup\n",
    "\n",
    "# Dropdowns\n",
    "\n",
    "dropdownA = widgets.Dropdown(\n",
    "    options=paises_ocde,\n",
    "    value='Canada',\n",
    "    description='Países',\n",
    "    style = {'description_width':'102px'},\n",
    "    layout={'width': '310px'}\n",
    ")\n",
    "\n",
    "dropdownB = widgets.Dropdown(\n",
    "    options=paises_ocde,\n",
    "    value='Chile',\n",
    "    description='',\n",
    "    layout={'width': '200px'}\n",
    ")\n",
    "\n",
    "dropdownsLayout = widgets.HBox([dropdownA,dropdownB])\n",
    "\n",
    "# Toggles\n",
    "toggleStyles = {'button_width':'200px','button_width':'100px'}\n",
    "\n",
    "modoToggle = widgets.ToggleButtons(\n",
    "    options=['Casos Diarios','Casos Acumulados'],\n",
    "    description='Modo:',\n",
    "    button_style='success',\n",
    "    style={'button_width':'200px','description_width':'100px'},\n",
    "    tooltips=['Muestra los casos nuevos de cada día o semana','Muestra los casos acumulados hasta la fecha']\n",
    ")\n",
    "\n",
    "normToggle = widgets.ToggleButtons(\n",
    "    options=['Valor Absoluto', 'Valores Relativos'],\n",
    "    description='Normalización:',\n",
    "    button_style='info',\n",
    "    style = modoToggle.style,\n",
    "    tooltips=['Valor absoluto', 'Tasas por 100.000 habitantes']\n",
    ")\n",
    "\n",
    "freqToggle = widgets.ToggleButtons(\n",
    "    options=['Valores Diarios', 'Valores Semanales'],\n",
    "    description='Agrupamiento:',\n",
    "    button_style='warning',\n",
    "    style = modoToggle.style,\n",
    "    tooltips=['Muestra valores diarios', 'Agrupa valores por semana ( de lunes a lunes )']\n",
    ")\n",
    "\n",
    "# Layout principal\n",
    "mainLayout = widgets.VBox([dropdownsLayout,modoToggle,normToggle,freqToggle])\n",
    "\n",
    "# Tabs\n",
    "tabs = widgets.Tab()\n",
    "tab_names = ['Confirmados','Recuperados','Decesos']\n",
    "\n",
    "for i in range(3):\n",
    "    tabs.set_title(i, tab_names[i])\n",
    "    \n",
    "tabs.children = [mainLayout,mainLayout,mainLayout]\n",
    "\n",
    "# Layout con Output\n",
    "out = widgets.Output()\n",
    "outLayout = widgets.VBox([tabs,out])"
   ]
  },
  {
   "cell_type": "code",
   "execution_count": null,
   "metadata": {},
   "outputs": [],
   "source": [
    "# Arreglo de tiempo por día\n",
    "def plot():\n",
    "    with out:\n",
    "        clear_output()\n",
    "        plt.close()\n",
    "        plt.figure(figsize=(9, 5))\n",
    "        \n",
    "        df = None\n",
    "        \n",
    "        # Confirmados\n",
    "        if tabs.selected_index == 0:\n",
    "            df = df_confirmados.loc[paises_ocde]\n",
    "            plt.title('Confirmados')\n",
    "        # Recuperados\n",
    "        elif tabs.selected_index == 1:\n",
    "            df = df_recuperados.loc[paises_ocde]\n",
    "            plt.title('Recuperados')\n",
    "        # Decesos\n",
    "        else:\n",
    "            df = df_muertes.loc[paises_ocde]\n",
    "            plt.title('Decesos')\n",
    "        \n",
    "        \n",
    "        dfA = df.loc[dropdownA.value].copy()[1:]\n",
    "        dfB = df.loc[dropdownB.value].copy()[1:]\n",
    "        \n",
    "        if modoToggle.value == 'Casos Diarios':\n",
    "            dfA[1:] = [dfA[i]-dfA[i-1]for i in range(1,len(dfA))]\n",
    "            dfB[1:] = [dfB[i]-dfB[i-1]for i in range(1,len(dfB))]\n",
    "            \n",
    "        if normToggle.value == 'Valores Relativos':\n",
    "            dfA = (100000.0*dfA)/poblacion_total[dropdownA.value]\n",
    "            dfB = (100000.0*dfB)/poblacion_total[dropdownB.value]\n",
    "            plt.ylabel('Tasa por 100.000 habitantes')\n",
    "        else:\n",
    "            plt.ylabel('Número de Casos')\n",
    "            \n",
    "        if freqToggle.value == 'Valores Semanales':\n",
    "            dfA = dfA.T.groupby(pd.Grouper(freq='W-MON')).sum()\n",
    "            t = dfA.index.to_numpy()\n",
    "            dfA = dfA.to_numpy()\n",
    "            dfB = dfB.T.groupby(pd.Grouper(freq='W-MON')).sum()\n",
    "            plt.xlabel('Semana')\n",
    "        else:\n",
    "            t = df_confirmados.columns.to_numpy()[1:]\n",
    "            plt.xlabel('Día')\n",
    "        \n",
    "        \n",
    "        plt.plot_date(t, dfA, 'r', label=dropdownA.value)\n",
    "        plt.plot_date(t, dfB, 'b', label=dropdownB.value)\n",
    "        plt.legend()\n",
    "        plt.show()"
   ]
  },
  {
   "cell_type": "code",
   "execution_count": null,
   "metadata": {},
   "outputs": [],
   "source": [
    "# Interacción\n",
    "display(outLayout)\n",
    "    \n",
    "# Actualiza series\n",
    "def updateSeries(a,b,c,d,e):\n",
    "    plot()\n",
    "    \n",
    "prevIndex = 0\n",
    "def updateTab():\n",
    "    global prevIndex\n",
    "    if prevIndex != tabs.selected_index:\n",
    "        plot()\n",
    "    prevIndex = tabs.selected_index\n",
    "    \n",
    "widgets.interactive_output(updateSeries,{\n",
    "    'a':dropdownA,\n",
    "    'b':dropdownB,\n",
    "    'c':modoToggle,\n",
    "    'd':normToggle,\n",
    "    'e':freqToggle\n",
    "})\n",
    "tabs.observe(lambda change: updateTab(), names='selected_index')"
   ]
  },
  {
   "cell_type": "markdown",
   "metadata": {},
   "source": [
    "En base a su interfaz:\n",
    "\n",
    "1. Describa en detalle la situación de Chile con respecto a la evolución temporal de las series de tiempo. En particular destaque patrones y comportamientos que considere relevantes y compare lo que observa en las distintas series de tiempo. Considerando la evolución a nivel de semana, conteste ¿En qué fechas ocurre un aumento o disminución notoria de los casos? ¿En qué fechas hay máximos y mínimos?\n",
    "2. Considerando métricas que sean relativas compare el caso de Chile contra cinco países de la OCDE seleccionados por ustedes. Destaque semejanzas y diferencias considerando las cantidades y los posibles desfases temporales existentes."
   ]
  }
 ],
 "metadata": {
  "kernelspec": {
   "display_name": "Python 3",
   "language": "python",
   "name": "python3"
  },
  "language_info": {
   "codemirror_mode": {
    "name": "ipython",
    "version": 3
   },
   "file_extension": ".py",
   "mimetype": "text/x-python",
   "name": "python",
   "nbconvert_exporter": "python",
   "pygments_lexer": "ipython3",
   "version": "3.7.6"
  }
 },
 "nbformat": 4,
 "nbformat_minor": 5
}
