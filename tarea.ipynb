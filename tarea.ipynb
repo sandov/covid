{
 "cells": [
  {
   "cell_type": "markdown",
   "id": "23fb5b9d",
   "metadata": {},
   "source": [
    "# Explorando datos mundiales de COVID-19"
   ]
  },
  {
   "cell_type": "code",
   "execution_count": null,
   "id": "d175da2c",
   "metadata": {},
   "outputs": [],
   "source": [
    "import pandas as pd"
   ]
  },
  {
   "cell_type": "markdown",
   "id": "8ba69afd",
   "metadata": {},
   "source": [
    "### Preparación de datos"
   ]
  },
  {
   "cell_type": "markdown",
   "id": "976eafa8",
   "metadata": {},
   "source": [
    "Almacenaremos los datos de casos confirmados en un dataframe. Usamos el nombre del país como índice:"
   ]
  },
  {
   "cell_type": "code",
   "execution_count": null,
   "id": "86007ac7",
   "metadata": {},
   "outputs": [],
   "source": [
    "df_confirmados = pd.read_csv('./data/covid19_confirmados.csv',\n",
    "                             index_col='Country/Region')"
   ]
  },
  {
   "cell_type": "code",
   "execution_count": null,
   "id": "d19d6850",
   "metadata": {},
   "outputs": [],
   "source": [
    "df_confirmados.head(5)"
   ]
  },
  {
   "cell_type": "markdown",
   "id": "0acc71ff",
   "metadata": {},
   "source": [
    "Eliminamos las columnas \"Lat\" y \"Long\":"
   ]
  },
  {
   "cell_type": "code",
   "execution_count": null,
   "id": "f4afb727",
   "metadata": {},
   "outputs": [],
   "source": [
    "df_confirmados.drop(labels=['Lat', 'Long'], axis=1, inplace=True)"
   ]
  },
  {
   "cell_type": "code",
   "execution_count": null,
   "id": "f00f05f0",
   "metadata": {},
   "outputs": [],
   "source": [
    "df_confirmados.head(5)"
   ]
  },
  {
   "cell_type": "markdown",
   "id": "47edf7ae",
   "metadata": {},
   "source": [
    "Luego, reinterpretamos las etiquetas de fecha como Timestamps en lugar de simples objetos.\n",
    "\n",
    "Para eso, tomamos un slice del dataframe que contiene las columnas desde la uno hasta la última —excluimos la columna 0, que corresponde a 'Province/Region'— y al slice le renombramos las columnas, aplicándole a cada etiqueta la función `pd.to_datetime`."
   ]
  },
  {
   "cell_type": "code",
   "execution_count": null,
   "id": "83a1887f",
   "metadata": {},
   "outputs": [],
   "source": [
    "df_confirmados.iloc[:,1:].rename(mapper=pd.to_datetime, axis='columns')"
   ]
  },
  {
   "cell_type": "code",
   "execution_count": null,
   "id": "1e382c0c",
   "metadata": {},
   "outputs": [],
   "source": []
  }
 ],
 "metadata": {
  "kernelspec": {
   "display_name": "Python 3",
   "language": "python",
   "name": "python3"
  },
  "language_info": {
   "codemirror_mode": {
    "name": "ipython",
    "version": 3
   },
   "file_extension": ".py",
   "mimetype": "text/x-python",
   "name": "python",
   "nbconvert_exporter": "python",
   "pygments_lexer": "ipython3",
   "version": "3.8.5"
  }
 },
 "nbformat": 4,
 "nbformat_minor": 5
}
