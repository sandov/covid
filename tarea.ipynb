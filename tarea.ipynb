{
 "cells": [
  {
   "cell_type": "markdown",
   "id": "23fb5b9d",
   "metadata": {},
   "source": [
    "# Explorando datos mundiales de COVID-19"
   ]
  },
  {
   "cell_type": "code",
   "execution_count": null,
   "id": "d175da2c",
   "metadata": {},
   "outputs": [],
   "source": [
    "import numpy as np\n",
    "import pandas as pd"
   ]
  },
  {
   "cell_type": "markdown",
   "id": "8ba69afd",
   "metadata": {},
   "source": [
    "## Preparación de datos"
   ]
  },
  {
   "cell_type": "markdown",
   "id": "7a30aae6",
   "metadata": {},
   "source": [
    "### Datos de casos confirmados"
   ]
  },
  {
   "cell_type": "markdown",
   "id": "976eafa8",
   "metadata": {},
   "source": [
    "Primero, importamos los datos de casos confirmados a un dataframe"
   ]
  },
  {
   "cell_type": "code",
   "execution_count": null,
   "id": "86007ac7",
   "metadata": {},
   "outputs": [],
   "source": [
    "df_confirmados = pd.read_csv('./data/covid19_confirmados.csv')\n",
    "df_confirmados.head(25)\n",
    "\n"
   ]
  },
  {
   "cell_type": "markdown",
   "id": "471c5a35",
   "metadata": {},
   "source": [
    "Las primeras cuatro columnas identifican el lugar y las 400 columnas siguientes corresponden al número de casos en ese lugar, durante 400 días consecutivos.\n",
    "\n",
    "Algunos países tienen solo una fila, otros tienen varias, cada una correspondiente a una provincia o estado.\n",
    "\n",
    "Luego, reduciremos la columna 'Province/State' y dejaremos una fila por país. Para facilitar esa reducción, crearemos un MultiIndex con las columnas 'Country/Region' y 'Province/State'."
   ]
  },
  {
   "cell_type": "code",
   "execution_count": null,
   "id": "eaa52538",
   "metadata": {},
   "outputs": [],
   "source": [
    "df_confirmados.set_index(keys=['Country/Region', 'Province/State'], drop=True,inplace=True)"
   ]
  },
  {
   "cell_type": "code",
   "execution_count": null,
   "id": "d19d6850",
   "metadata": {},
   "outputs": [],
   "source": [
    "df_confirmados.head(5)"
   ]
  },
  {
   "cell_type": "markdown",
   "id": "0acc71ff",
   "metadata": {},
   "source": [
    "Pero antes de hacer esa reducción, ordenaremos un poco más el dataframe.\n",
    "\n",
    "Eliminamos las columnas \"Lat\" y \"Long\":"
   ]
  },
  {
   "cell_type": "code",
   "execution_count": null,
   "id": "f4afb727",
   "metadata": {},
   "outputs": [],
   "source": [
    "df_confirmados.drop(labels=['Lat', 'Long'], axis=1, inplace=True)"
   ]
  },
  {
   "cell_type": "code",
   "execution_count": null,
   "id": "f00f05f0",
   "metadata": {},
   "outputs": [],
   "source": [
    "df_confirmados.head(5)"
   ]
  },
  {
   "cell_type": "markdown",
   "id": "47edf7ae",
   "metadata": {},
   "source": [
    "Luego, reinterpretamos las etiquetas de fecha como Timestamps en lugar de simples objetos.\n",
    "\n",
    "Para eso, le aplicamos a cada columna la función `pd.to_datetime`."
   ]
  },
  {
   "cell_type": "code",
   "execution_count": null,
   "id": "83a1887f",
   "metadata": {},
   "outputs": [],
   "source": [
    "df_confirmados.rename(mapper=pd.to_datetime, axis='columns', inplace=True);\n",
    "df_confirmados.head(5)"
   ]
  },
  {
   "cell_type": "markdown",
   "id": "591e291b",
   "metadata": {},
   "source": [
    "Ahora sí reducimos el índice Province/State, para que quede solo una fila por país. Los valores para cada día serán la suma de casos dentro de las provincias para aquellos países en que habían varias provincias. Para los países que solo tenían una fila, el valor se mantiene. **TO DO**: Revisar que estas operaciones hayan quedado bien calculadas para ambos casos."
   ]
  },
  {
   "cell_type": "code",
   "execution_count": null,
   "id": "dd1a956d",
   "metadata": {},
   "outputs": [],
   "source": [
    "df_confirmados = df_confirmados.groupby(by='Country/Region').aggregate(np.sum)"
   ]
  },
  {
   "cell_type": "code",
   "execution_count": null,
   "id": "9ff06f58",
   "metadata": {},
   "outputs": [],
   "source": [
    "df_confirmados.head(15)"
   ]
  },
  {
   "cell_type": "markdown",
   "id": "959a1c0e",
   "metadata": {},
   "source": [
    "### Datos de población por país"
   ]
  },
  {
   "cell_type": "markdown",
   "id": "4ced26e2",
   "metadata": {},
   "source": [
    "Importamos los datos, usando el país como índice principal."
   ]
  },
  {
   "cell_type": "code",
   "execution_count": null,
   "id": "84d3d348",
   "metadata": {},
   "outputs": [],
   "source": [
    "df_poblacion = pd.read_csv('./data/population_by_country_2020.csv', index_col='Country (or dependency)')\n",
    "df_poblacion.head(5)"
   ]
  },
  {
   "cell_type": "markdown",
   "id": "7b5e87fb",
   "metadata": {},
   "source": [
    "Ordenamos los países por orden alfabético."
   ]
  },
  {
   "cell_type": "code",
   "execution_count": null,
   "id": "0c9a7225",
   "metadata": {
    "scrolled": true
   },
   "outputs": [],
   "source": [
    "df_poblacion.sort_index(inplace=True)\n",
    "df_poblacion.head(5)"
   ]
  },
  {
   "cell_type": "markdown",
   "id": "0c85b307",
   "metadata": {},
   "source": [
    "Debemos encontrar las diferencias entre las etiquetas de los índices de los dataframes.\n",
    "\n",
    "Primero, veamos los tamaños de ambos índices."
   ]
  },
  {
   "cell_type": "code",
   "execution_count": null,
   "id": "0b07f335",
   "metadata": {},
   "outputs": [],
   "source": [
    "print('n° filas df confirmados:', len(df_confirmados.index))\n",
    "print('n° filas df población:', len(df_poblacion.index))\n",
    "print('diferencia:', abs(len(df_confirmados.index) - len(df_poblacion.index)))"
   ]
  },
  {
   "cell_type": "markdown",
   "id": "2f8eb22a",
   "metadata": {},
   "source": [
    "Ahora, veamos qué etiquetas están en el dataframe de confirmados pero no en el de población."
   ]
  },
  {
   "cell_type": "code",
   "execution_count": null,
   "id": "c25ade86",
   "metadata": {
    "scrolled": true
   },
   "outputs": [],
   "source": [
    "df_confirmados.index.difference(df_poblacion.index)"
   ]
  },
  {
   "cell_type": "code",
   "execution_count": null,
   "id": "097dc4ef",
   "metadata": {},
   "outputs": [],
   "source": [
    "len(_)"
   ]
  },
  {
   "cell_type": "markdown",
   "id": "43f9bb97",
   "metadata": {},
   "source": [
    "Ahora lo contrario, es decir, cuáles están en población pero no en confirmados."
   ]
  },
  {
   "cell_type": "code",
   "execution_count": null,
   "id": "6bf38236",
   "metadata": {},
   "outputs": [],
   "source": [
    "df_poblacion.index.difference(df_confirmados.index)"
   ]
  },
  {
   "cell_type": "code",
   "execution_count": null,
   "id": "213ba73e",
   "metadata": {},
   "outputs": [],
   "source": [
    "len(_)"
   ]
  },
  {
   "cell_type": "code",
   "execution_count": null,
   "id": "6f6de581",
   "metadata": {},
   "outputs": [],
   "source": []
  }
 ],
 "metadata": {
  "kernelspec": {
   "display_name": "Python 3",
   "language": "python",
   "name": "python3"
  },
  "language_info": {
   "codemirror_mode": {
    "name": "ipython",
    "version": 3
   },
   "file_extension": ".py",
   "mimetype": "text/x-python",
   "name": "python",
   "nbconvert_exporter": "python",
   "pygments_lexer": "ipython3",
   "version": "3.8.5"
  }
 },
 "nbformat": 4,
 "nbformat_minor": 5
}
