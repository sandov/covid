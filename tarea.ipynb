{
 "cells": [
  {
   "cell_type": "markdown",
   "id": "23fb5b9d",
   "metadata": {},
   "source": [
    "# Explorando datos mundiales de COVID-19"
   ]
  },
  {
   "cell_type": "code",
   "execution_count": null,
   "id": "d175da2c",
   "metadata": {},
   "outputs": [],
   "source": [
    "import numpy as np\n",
    "import pandas as pd"
   ]
  },
  {
   "cell_type": "markdown",
   "id": "8ba69afd",
   "metadata": {},
   "source": [
    "## Preparación de datos\n",
    "\n",
    "1. Explore el archivo covid19_confirmados.csv y configure la función read_csv de pandas para importarlo como un DataFrame.\n",
    "    - Utilice el nombre de país como índice principal\n",
    "    - Elimine las columnas Lat y Long\n",
    "    - Use TimeStamps para los \"nombres de columna\" asociados a fechas\n",
    "    - Reduzca la columna Province/State, el DataFrame resultante debe tener los totales a nivel país"
   ]
  },
  {
   "cell_type": "markdown",
   "id": "7a30aae6",
   "metadata": {},
   "source": [
    "### Datos de casos confirmados"
   ]
  },
  {
   "cell_type": "markdown",
   "id": "976eafa8",
   "metadata": {},
   "source": [
    "Primero, importamos los datos de casos confirmados a un dataframe"
   ]
  },
  {
   "cell_type": "code",
   "execution_count": null,
   "id": "86007ac7",
   "metadata": {},
   "outputs": [],
   "source": [
    "df_confirmados = pd.read_csv('./data/covid19_confirmados.csv')\n",
    "df_confirmados.head(5)"
   ]
  },
  {
   "cell_type": "markdown",
   "id": "471c5a35",
   "metadata": {},
   "source": [
    "Las primeras cuatro columnas identifican el lugar y las 400 columnas siguientes corresponden al número de casos en ese lugar, durante 400 días consecutivos.\n",
    "\n",
    "Algunos países tienen solo una fila, otros tienen varias, cada una correspondiente a una provincia o estado.\n",
    "\n",
    "Luego, reduciremos la columna 'Province/State' y dejaremos una fila por país. Para facilitar esa reducción, crearemos un MultiIndex con las columnas 'Country/Region' y 'Province/State'."
   ]
  },
  {
   "cell_type": "code",
   "execution_count": null,
   "id": "eaa52538",
   "metadata": {},
   "outputs": [],
   "source": [
    "df_confirmados.set_index(keys=['Country/Region', 'Province/State'], drop=True,inplace=True)"
   ]
  },
  {
   "cell_type": "code",
   "execution_count": null,
   "id": "d19d6850",
   "metadata": {},
   "outputs": [],
   "source": [
    "df_confirmados.head(5)"
   ]
  },
  {
   "cell_type": "markdown",
   "id": "0acc71ff",
   "metadata": {},
   "source": [
    "Pero antes de hacer esa reducción, ordenaremos un poco más el dataframe.\n",
    "\n",
    "Eliminamos las columnas \"Lat\" y \"Long\":"
   ]
  },
  {
   "cell_type": "code",
   "execution_count": null,
   "id": "f4afb727",
   "metadata": {},
   "outputs": [],
   "source": [
    "df_confirmados.drop(labels=['Lat', 'Long'], axis=1, inplace=True)"
   ]
  },
  {
   "cell_type": "code",
   "execution_count": null,
   "id": "f00f05f0",
   "metadata": {},
   "outputs": [],
   "source": [
    "df_confirmados.head(5)"
   ]
  },
  {
   "cell_type": "markdown",
   "id": "47edf7ae",
   "metadata": {},
   "source": [
    "Luego, reinterpretamos las etiquetas de fecha como Timestamps en lugar de simples objetos.\n",
    "\n",
    "Para eso, le aplicamos a cada columna la función `pd.to_datetime`."
   ]
  },
  {
   "cell_type": "code",
   "execution_count": null,
   "id": "83a1887f",
   "metadata": {},
   "outputs": [],
   "source": [
    "df_confirmados.rename(mapper=pd.to_datetime, axis='columns', inplace=True);\n",
    "df_confirmados.head(5)"
   ]
  },
  {
   "cell_type": "markdown",
   "id": "591e291b",
   "metadata": {},
   "source": [
    "Ahora sí reducimos el índice Province/State, para que quede solo una fila por país. Los valores para cada día serán la suma de casos dentro de las provincias para aquellos países en que habían varias provincias. Para los países que solo tenían una fila, el valor se mantiene. **TO DO**: Revisar que estas operaciones hayan quedado bien calculadas para ambos casos."
   ]
  },
  {
   "cell_type": "code",
   "execution_count": null,
   "id": "dd1a956d",
   "metadata": {},
   "outputs": [],
   "source": [
    "df_confirmados = df_confirmados.groupby(by='Country/Region').aggregate(np.sum)"
   ]
  },
  {
   "cell_type": "code",
   "execution_count": null,
   "id": "9ff06f58",
   "metadata": {},
   "outputs": [],
   "source": [
    "df_confirmados.head(5)"
   ]
  },
  {
   "cell_type": "markdown",
   "id": "959a1c0e",
   "metadata": {},
   "source": [
    "### Datos de población por país"
   ]
  },
  {
   "cell_type": "markdown",
   "id": "4ced26e2",
   "metadata": {},
   "source": [
    "Importamos los datos, usando el país como índice principal.\n",
    "\n",
    "Solo importamos los datos de nombre de país y población. No usaremos los otros."
   ]
  },
  {
   "cell_type": "code",
   "execution_count": null,
   "id": "84d3d348",
   "metadata": {
    "scrolled": true
   },
   "outputs": [],
   "source": [
    "df_poblacion = pd.read_csv('./data/population_by_country_2020.csv',usecols=['Country (or dependency)','Population (2020)'],index_col='Country (or dependency)')\n",
    "\n",
    "df_poblacion.head(5)"
   ]
  },
  {
   "cell_type": "markdown",
   "id": "7b5e87fb",
   "metadata": {},
   "source": [
    "Ordenamos los países por orden alfabético."
   ]
  },
  {
   "cell_type": "code",
   "execution_count": null,
   "id": "0c9a7225",
   "metadata": {
    "scrolled": true
   },
   "outputs": [],
   "source": [
    "df_poblacion.sort_index(inplace=True)\n",
    "df_poblacion.head(5)"
   ]
  },
  {
   "cell_type": "markdown",
   "id": "0c85b307",
   "metadata": {},
   "source": [
    "Debemos encontrar las diferencias entre las etiquetas de los índices de los dataframes.\n",
    "\n",
    "Primero, veamos los tamaños de ambos índices."
   ]
  },
  {
   "cell_type": "code",
   "execution_count": null,
   "id": "0b07f335",
   "metadata": {},
   "outputs": [],
   "source": [
    "print('n° filas df confirmados:', len(df_confirmados.index))\n",
    "print('n° filas df población:', len(df_poblacion.index))\n",
    "print('diferencia:', abs(len(df_confirmados.index) - len(df_poblacion.index)))"
   ]
  },
  {
   "cell_type": "markdown",
   "id": "2f8eb22a",
   "metadata": {},
   "source": [
    "Ahora, veamos qué etiquetas están en el dataframe de confirmados pero no en el de población."
   ]
  },
  {
   "cell_type": "code",
   "execution_count": null,
   "id": "c25ade86",
   "metadata": {
    "scrolled": true
   },
   "outputs": [],
   "source": [
    "df_confirmados.index.difference(df_poblacion.index)"
   ]
  },
  {
   "cell_type": "code",
   "execution_count": null,
   "id": "097dc4ef",
   "metadata": {},
   "outputs": [],
   "source": [
    "len(_)"
   ]
  },
  {
   "cell_type": "markdown",
   "id": "43f9bb97",
   "metadata": {},
   "source": [
    "Ahora lo contrario, es decir, cuáles están en población pero no en confirmados."
   ]
  },
  {
   "cell_type": "code",
   "execution_count": null,
   "id": "6bf38236",
   "metadata": {},
   "outputs": [],
   "source": [
    "df_poblacion.index.difference(df_confirmados.index)"
   ]
  },
  {
   "cell_type": "code",
   "execution_count": null,
   "id": "213ba73e",
   "metadata": {},
   "outputs": [],
   "source": [
    "len(_)"
   ]
  },
  {
   "cell_type": "markdown",
   "id": "f41dafe2",
   "metadata": {},
   "source": [
    "Hay varias diferencias entre los países incluidos en los dataframes. Por ejemplo: en un dataframe se usa el caracter '&' y en otros la palabra 'and' para nombrar a ciertos países. Además, hay diferencias semánticas y políticas en lo que se considera en la columna de los países.\n",
    "\n",
    "En base a estas diferencias implementamos un procedimiento ad hoc para hacer que los países de ambos dataframes coincidan."
   ]
  },
  {
   "cell_type": "code",
   "execution_count": null,
   "id": "7445205f",
   "metadata": {},
   "outputs": [],
   "source": [
    "# Cambio de algunos símbolos\n",
    "symbolChanges = [\n",
    "    ['&', 'and'],\n",
    "    ['St.', 'Saint'],\n",
    "    ['ô', 'o']\n",
    "]\n",
    "for change in symbolChanges:\n",
    "    df_poblacion.index = [country.replace(change[0], change[1]) for country in df_poblacion.index]\n",
    "\n",
    "\n",
    "# Cambiamos valores específicos\n",
    "fullChanges = [\n",
    "    ['US','United States'],\n",
    "    ['Burma','Myanmar'],\n",
    "    ['Korea, South','South Korea'],\n",
    "    ['Taiwan*','Taiwan'],\n",
    "    ['Congo (Kinshasa)','DR Congo'],\n",
    "    ['Congo (Brazzaville)','Congo'],\n",
    "    ['Czechia','Czech Republic (Czechia)'],\n",
    "    ['Saint Vincent and the Grenadines','Saint Vincent and Grenadines']\n",
    "]\n",
    "\n",
    "for change in fullChanges:  \n",
    "    df_poblacion.index = [change[0] if country == change[1] else country for country in df_poblacion.index]\n",
    "\n",
    "\n",
    "# Incluimos sectores dentro de otros ( sumando población )\n",
    "includeChanges = [\n",
    "    ['France','Wallis and Futuna'],\n",
    "    ['France','New Caledonia'],\n",
    "    ['France','French Guiana'],\n",
    "    ['France','French Polynesia'],\n",
    "    ['France','Guadeloupe'],\n",
    "    ['France','Martinique'],\n",
    "    ['France','Mayotte'],\n",
    "    ['France','Réunion'],\n",
    "    ['France','Saint Barthelemy'],\n",
    "    ['France','Saint Pierre and Miquelon'],\n",
    "    ['Denmark','Faeroe Islands'],\n",
    "    ['Denmark','Greenland'],\n",
    "    ['US','American Samoa'],\n",
    "    ['US','Guam'],\n",
    "    ['US','Northern Mariana Islands'],\n",
    "    ['US','Puerto Rico'],\n",
    "    ['US','U.S. Virgin Islands'],\n",
    "    ['Israel','State of Palestine'],\n",
    "    ['United Kingdom','Falkland Islands'],\n",
    "    ['United Kingdom','Anguilla'],\n",
    "    ['United Kingdom','Bermuda'],\n",
    "    ['United Kingdom','British Virgin Islands'],\n",
    "    ['United Kingdom','Cayman Islands'],\n",
    "    ['United Kingdom','Channel Islands'],\n",
    "    ['United Kingdom','Gibraltar'],\n",
    "    ['United Kingdom','Isle of Man'],\n",
    "    ['United Kingdom','Montserrat'],\n",
    "    ['United Kingdom','Saint Helena'],\n",
    "    ['United Kingdom','Turks and Caicos'],\n",
    "    ['Netherlands','Aruba'],\n",
    "    ['Netherlands','Caribbean Netherlands'],\n",
    "    ['Netherlands','Curaçao'],\n",
    "    ['Netherlands','Sint Maarten'],\n",
    "    ['New Zealand','Cook Islands'],\n",
    "    ['New Zealand','Niue'],\n",
    "    ['New Zealand','Tokelau'],\n",
    "    ['China','Hong Kong'],\n",
    "    ['China','Macao'],\n",
    "    ['Micronesia','Nauru'],\n",
    "    ['Micronesia','Palau'],\n",
    "    ['Morocco','Western Sahara']\n",
    "]\n",
    "\n",
    "for change in includeChanges:  \n",
    "    df_poblacion.index = [change[0] if country == change[1] else country for country in df_poblacion.index]\n",
    "\n",
    "# Suma población de lugares unidos\n",
    "df_poblacion = df_poblacion.groupby(df_poblacion.index).sum()\n",
    "\n",
    "df_poblacion.head(5)"
   ]
  },
  {
   "cell_type": "markdown",
   "id": "a448508d",
   "metadata": {},
   "source": [
    "3. Haga un merge de los DataFrame anteriores. El objetivo es asignar un valor de Population a cada elemento del primer DataFrame. Indique las filas donde no se puede realizar el merge y luego descártelas de su DataFrame final"
   ]
  },
  {
   "cell_type": "code",
   "execution_count": null,
   "id": "b71596b4",
   "metadata": {},
   "outputs": [],
   "source": [
    "# Elimina lugares en df de población\n",
    "removePop = ['Kiribati', 'North Korea', 'Saint Martin', 'Tonga', 'Turkmenistan', 'Tuvalu']\n",
    "df_poblacion = df_poblacion.drop(removePop,axis=0).sort_index()\n",
    "df_poblacion.head(5)"
   ]
  },
  {
   "cell_type": "code",
   "execution_count": null,
   "id": "2521a2a7",
   "metadata": {},
   "outputs": [],
   "source": [
    "# Elimina lugares en df de confirmados\n",
    "removeCon = ['Diamond Princess', 'Kosovo', 'MS Zaandam', 'West Bank and Gaza']\n",
    "df_confirmados = df_confirmados.drop(removeCon,axis=0).sort_index()\n",
    "df_confirmados.head(5)"
   ]
  },
  {
   "cell_type": "code",
   "execution_count": null,
   "id": "9441ca3e",
   "metadata": {},
   "outputs": [],
   "source": [
    "# Incluye la población al df de confirmados\n",
    "df_confirmados.insert(0, 'Population', df_poblacion['Population (2020)'])\n",
    "df_confirmados.head(5)"
   ]
  },
  {
   "cell_type": "markdown",
   "id": "c8e4659b",
   "metadata": {},
   "source": [
    "4. Repita el procedimiento anterior para los archivos covid19_recuperados.csv y covid19_muertes.csv"
   ]
  },
  {
   "cell_type": "code",
   "execution_count": null,
   "id": "f34764ae",
   "metadata": {},
   "outputs": [],
   "source": [
    "# Importamos datasets\n",
    "df_recuperados = pd.read_csv('./data/covid19_recuperados.csv',index_col='Country/Region')\n",
    "df_muertes = pd.read_csv('./data/covid19_decesos.csv',index_col='Country/Region')\n",
    "\n",
    "# Elimina columnas Lat, Long y Province/State\n",
    "df_recuperados = df_recuperados.drop(['Lat','Long','Province/State'],axis=1)\n",
    "df_muertes = df_muertes.drop(['Lat','Long','Province/State'],axis=1)\n",
    "\n",
    "# Convierte nombre de columnas a datetime64\n",
    "df_recuperados.columns = pd.to_datetime(df_recuperados.columns).tolist()\n",
    "df_muertes.columns = pd.to_datetime(df_muertes.columns).tolist()\n",
    "\n",
    "# Compacta las filas del mismo país en una y suma sus valores\n",
    "df_recuperados = df_recuperados.groupby(\"Country/Region\").sum()\n",
    "df_muertes = df_muertes.groupby(\"Country/Region\").sum()\n",
    "\n",
    "# Elimina Filas Conflictivas\n",
    "df_recuperados = df_recuperados.drop(removeCon,axis=0).sort_index()\n",
    "df_muertes = df_muertes.drop(removeCon,axis=0).sort_index()\n",
    "\n",
    "# Incluye la población\n",
    "df_recuperados.insert(0, 'Population', df_poblacion['Population (2020)'])\n",
    "df_muertes.insert(0, 'Population', df_poblacion['Population (2020)'])"
   ]
  },
  {
   "cell_type": "code",
   "execution_count": null,
   "id": "17cb5146",
   "metadata": {},
   "outputs": [],
   "source": [
    "# Verifica recuperados\n",
    "df_recuperados.head(5)"
   ]
  },
  {
   "cell_type": "code",
   "execution_count": null,
   "id": "3dd423e5",
   "metadata": {
    "scrolled": true
   },
   "outputs": [],
   "source": [
    "# Verifica muertes\n",
    "df_muertes.head(5)"
   ]
  },
  {
   "cell_type": "code",
   "execution_count": null,
   "id": "5beb859f",
   "metadata": {},
   "outputs": [],
   "source": [
    "# Dudas:"
   ]
  },
  {
   "cell_type": "code",
   "execution_count": null,
   "id": "368cb565",
   "metadata": {},
   "outputs": [],
   "source": [
    "# Unir Wallis and Futuna con Francia ???\n",
    "# Unir New Caledonia con Francia ???\n",
    "# Unir French Guiana con Francia ???\n",
    "# Unir French Polynesia con Francia ???\n",
    "# Unir Guadeloupe con Francia ???\n",
    "# Unir Martinique con Francia ???\n",
    "# Unir Mayotte con Francia ???\n",
    "# Unir Réunion con Francia ???\n",
    "# Unir Saint Barthelemy con Francia ???\n",
    "# Unir Saint Pierre and Miquelon con Francia ???\n",
    "# Unir Faeroe Islands con Dinamarca ???\n",
    "# Unir Greenland con Dinamarca ???\n",
    "# Unir American Samoa con USA ???\n",
    "# Unir Guam con USA ???\n",
    "# Unir Northern Mariana Islands con USA ???\n",
    "# Unir Puerto Rico con USA ???\n",
    "# Unir U.S. Virgin Islands con USA ???\n",
    "# Unir palestina con isrrael ???\n",
    "# Unir Falkland Islands (malvinas) con UK ???\n",
    "# Unir Anguilla con UK ???\n",
    "# Unir Bermudas con UK ???\n",
    "# Unir British Virgin Islands con UK ???\n",
    "# Unir Cayman Island con UK ???\n",
    "# Unir Channel Islands con UK ???????????????????????????????????????\n",
    "# Unir Gibraltar con UK ???\n",
    "# Unir Isle of Man con UK ???\n",
    "# Unir Montserrat con UK ???\n",
    "# Unir Saint Helena con UK ???\n",
    "# Unir Turks and Caicos con UK ???\n",
    "# Unir Aruba con paises bajos ???\n",
    "# Unir Caribbean Netherlands con paises bajos ???\n",
    "# Unir Curaçao con paises bajos ???\n",
    "# Unir Sint Maarten con Paises Bajos ???\n",
    "# Unir Cook Islands con Nueva Zelanda ???\n",
    "# Unir Niue con Nueva Zelanda ???\n",
    "# Unir Tokelau con Nueva Zelanda ???\n",
    "# Unir Hong Kong con China ???\n",
    "# Unir Macao con China ???\n",
    "# Unir Nauru con Micronesia ???\n",
    "# Unir Palau con Micronesia ???\n",
    "# Unir Western Sahara con Morocco ???\n",
    "\n",
    "# Saint Martin unir con Francia o Paises Bajos ???\n",
    "\n",
    "# Descartar Kiribati ??\n",
    "# Descartar North Korea ??\n",
    "# Descartar Tonga ??\n",
    "# Descartar Turkmenistan ??\n",
    "# Descartar Tuvalu ??\n",
    "# Descartar Palau o añadir a Micronesia ??"
   ]
  }
 ],
 "metadata": {
  "kernelspec": {
   "display_name": "Python 3",
   "language": "python",
   "name": "python3"
  },
  "language_info": {
   "codemirror_mode": {
    "name": "ipython",
    "version": 3
   },
   "file_extension": ".py",
   "mimetype": "text/x-python",
   "name": "python",
   "nbconvert_exporter": "python",
   "pygments_lexer": "ipython3",
   "version": "3.8.5"
  }
 },
 "nbformat": 4,
 "nbformat_minor": 5
}
