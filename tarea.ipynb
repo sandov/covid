{
 "cells": [
  {
   "cell_type": "markdown",
   "id": "0d611504",
   "metadata": {},
   "source": [
    "# Explorando datos mundiales de COVID-19"
   ]
  },
  {
   "cell_type": "code",
   "execution_count": null,
   "id": "6d99ea84",
   "metadata": {},
   "outputs": [],
   "source": [
    "import numpy as np\n",
    "import pandas as pd"
   ]
  },
  {
   "cell_type": "markdown",
   "id": "ad731597",
   "metadata": {},
   "source": [
    "## Preparación de datos\n",
    "\n",
    "1. Explore el archivo covid19_confirmados.csv y configure la función read_csv de pandas para importarlo como un DataFrame.\n",
    "    - Utilice el nombre de país como índice principal\n",
    "    - Elimine las columnas Lat y Long\n",
    "    - Use TimeStamps para los \"nombres de columna\" asociados a fechas\n",
    "    - Reduzca la columna Province/State, el DataFrame resultante debe tener los totales a nivel país"
   ]
  },
  {
   "cell_type": "markdown",
   "id": "c9400473",
   "metadata": {},
   "source": [
    "### Datos de casos confirmados"
   ]
  },
  {
   "cell_type": "markdown",
   "id": "f8b333b3",
   "metadata": {},
   "source": [
    "Primero, importamos los datos de casos confirmados a un dataframe"
   ]
  },
  {
   "cell_type": "code",
   "execution_count": null,
   "id": "de6f1c9e",
   "metadata": {},
   "outputs": [],
   "source": [
    "df_confirmados = pd.read_csv('./data/covid19_confirmados.csv')\n",
    "df_confirmados.head(5)"
   ]
  },
  {
   "cell_type": "markdown",
   "id": "8fcaa1ce",
   "metadata": {},
   "source": [
    "Las primeras cuatro columnas identifican el lugar y las 400 columnas siguientes corresponden al número de casos en ese lugar, durante 400 días consecutivos.\n",
    "\n",
    "Algunos países tienen solo una fila, otros tienen varias, cada una correspondiente a una provincia o estado.\n",
    "\n",
    "Luego, reduciremos la columna 'Province/State' y dejaremos una fila por país. Para facilitar esa reducción, crearemos un MultiIndex con las columnas 'Country/Region' y 'Province/State'."
   ]
  },
  {
   "cell_type": "code",
   "execution_count": null,
   "id": "01d1f0f8",
   "metadata": {},
   "outputs": [],
   "source": [
    "df_confirmados.set_index(keys=['Country/Region', 'Province/State'], drop=True,inplace=True)"
   ]
  },
  {
   "cell_type": "code",
   "execution_count": null,
   "id": "d9f4bc2b",
   "metadata": {},
   "outputs": [],
   "source": [
    "df_confirmados.head(5)"
   ]
  },
  {
   "cell_type": "markdown",
   "id": "6b894b26",
   "metadata": {},
   "source": [
    "Pero antes de hacer esa reducción, ordenaremos un poco más el dataframe.\n",
    "\n",
    "Eliminamos las columnas \"Lat\" y \"Long\":"
   ]
  },
  {
   "cell_type": "code",
   "execution_count": null,
   "id": "57f8fb44",
   "metadata": {},
   "outputs": [],
   "source": [
    "df_confirmados.drop(labels=['Lat', 'Long'], axis=1, inplace=True)"
   ]
  },
  {
   "cell_type": "code",
   "execution_count": null,
   "id": "2ade3a38",
   "metadata": {},
   "outputs": [],
   "source": [
    "df_confirmados.head(5)"
   ]
  },
  {
   "cell_type": "markdown",
   "id": "d99faf68",
   "metadata": {},
   "source": [
    "Luego, reinterpretamos las etiquetas de fecha como Timestamps en lugar de simples objetos.\n",
    "\n",
    "Para eso, le aplicamos a cada columna la función `pd.to_datetime`."
   ]
  },
  {
   "cell_type": "code",
   "execution_count": null,
   "id": "c078c1b2",
   "metadata": {},
   "outputs": [],
   "source": [
    "df_confirmados.rename(mapper=pd.to_datetime, axis='columns', inplace=True);\n",
    "df_confirmados.head(5)"
   ]
  },
  {
   "cell_type": "markdown",
   "id": "cbdbb0c9",
   "metadata": {},
   "source": [
    "Ahora sí reducimos el índice Province/State, para que quede solo una fila por país. Los valores para cada día serán la suma de casos dentro de las provincias para aquellos países en que habían varias provincias. Para los países que solo tenían una fila, el valor se mantiene. **TO DO**: Revisar que estas operaciones hayan quedado bien calculadas para ambos casos."
   ]
  },
  {
   "cell_type": "code",
   "execution_count": null,
   "id": "495aedc4",
   "metadata": {},
   "outputs": [],
   "source": [
    "df_confirmados = df_confirmados.groupby(by='Country/Region').aggregate(np.sum)"
   ]
  },
  {
   "cell_type": "code",
   "execution_count": null,
   "id": "ae6f046a",
   "metadata": {},
   "outputs": [],
   "source": [
    "df_confirmados.head(5)"
   ]
  },
  {
   "cell_type": "markdown",
   "id": "49c9029d",
   "metadata": {},
   "source": [
    "### Datos de población por país"
   ]
  },
  {
   "cell_type": "markdown",
   "id": "84681dac",
   "metadata": {},
   "source": [
    "Importamos los datos, usando el país como índice principal.\n",
    "\n",
    "Solo importamos los datos de nombre de país y población. No usaremos los otros."
   ]
  },
  {
   "cell_type": "code",
   "execution_count": null,
   "id": "92852566",
   "metadata": {
    "scrolled": true
   },
   "outputs": [],
   "source": [
    "df_poblacion = pd.read_csv('./data/population_by_country_2020.csv',usecols=['Country (or dependency)','Population (2020)'],index_col='Country (or dependency)')\n",
    "\n",
    "df_poblacion.head(5)"
   ]
  },
  {
   "cell_type": "markdown",
   "id": "e531d85d",
   "metadata": {},
   "source": [
    "Ordenamos los países por orden alfabético."
   ]
  },
  {
   "cell_type": "code",
   "execution_count": null,
   "id": "12f2aed5",
   "metadata": {
    "scrolled": true
   },
   "outputs": [],
   "source": [
    "df_poblacion.sort_index(inplace=True)\n",
    "df_poblacion.head(5)"
   ]
  },
  {
   "cell_type": "markdown",
   "id": "14a733d5",
   "metadata": {},
   "source": [
    "Debemos encontrar las diferencias entre las etiquetas de los índices de los dataframes.\n",
    "\n",
    "Primero, veamos los tamaños de ambos índices."
   ]
  },
  {
   "cell_type": "code",
   "execution_count": null,
   "id": "e37e6737",
   "metadata": {},
   "outputs": [],
   "source": [
    "print('n° filas df confirmados:', len(df_confirmados.index))\n",
    "print('n° filas df población:', len(df_poblacion.index))\n",
    "print('diferencia:', abs(len(df_confirmados.index) - len(df_poblacion.index)))"
   ]
  },
  {
   "cell_type": "markdown",
   "id": "eb988d97",
   "metadata": {},
   "source": [
    "Ahora, veamos qué etiquetas están en el dataframe de confirmados pero no en el de población."
   ]
  },
  {
   "cell_type": "code",
   "execution_count": null,
   "id": "cd98ee08",
   "metadata": {
    "scrolled": true
   },
   "outputs": [],
   "source": [
    "df_confirmados.index.difference(df_poblacion.index)"
   ]
  },
  {
   "cell_type": "code",
   "execution_count": null,
   "id": "9ec8b8ca",
   "metadata": {},
   "outputs": [],
   "source": [
    "len(_)"
   ]
  },
  {
   "cell_type": "markdown",
   "id": "f4bb65ad",
   "metadata": {},
   "source": [
    "Ahora lo contrario, es decir, cuáles están en población pero no en confirmados."
   ]
  },
  {
   "cell_type": "code",
   "execution_count": null,
   "id": "41f5f084",
   "metadata": {},
   "outputs": [],
   "source": [
    "df_poblacion.index.difference(df_confirmados.index)"
   ]
  },
  {
   "cell_type": "code",
   "execution_count": null,
   "id": "0709e790",
   "metadata": {},
   "outputs": [],
   "source": [
    "len(_)"
   ]
  },
  {
   "cell_type": "markdown",
   "id": "2bf27cbb",
   "metadata": {},
   "source": [
    "Hay varias diferencias entre los países incluidos en los dataframes. Por ejemplo: en un dataframe se usa el caracter '&' y en otros la palabra 'and' para nombrar a ciertos países. Además, hay diferencias semánticas y políticas en lo que se considera en la columna de los países.\n",
    "\n",
    "En base a estas diferencias implementamos un procedimiento ad hoc para hacer que los países de ambos dataframes coincidan."
   ]
  },
  {
   "cell_type": "code",
   "execution_count": null,
   "id": "1a7da25d",
   "metadata": {},
   "outputs": [],
   "source": [
    "# Cambio de algunos símbolos\n",
    "symbolChanges = [\n",
    "    ['&', 'and'],\n",
    "    ['St.', 'Saint'],\n",
    "    ['ô', 'o']\n",
    "]\n",
    "for change in symbolChanges:\n",
    "    df_poblacion.index = [country.replace(change[0], change[1]) for country in df_poblacion.index]\n",
    "\n",
    "\n",
    "# Cambiamos valores específicos\n",
    "fullChanges = [\n",
    "    ['US','United States'],\n",
    "    ['Burma','Myanmar'],\n",
    "    ['Korea, South','South Korea'],\n",
    "    ['Taiwan*','Taiwan'],\n",
    "    ['Congo (Kinshasa)','DR Congo'],\n",
    "    ['Congo (Brazzaville)','Congo'],\n",
    "    ['Czechia','Czech Republic (Czechia)'],\n",
    "    ['Saint Vincent and the Grenadines','Saint Vincent and Grenadines']\n",
    "]\n",
    "\n",
    "for change in fullChanges:  \n",
    "    df_poblacion.index = [change[0] if country == change[1] else country for country in df_poblacion.index]\n",
    "\n",
    "\n",
    "# Incluimos sectores dentro de otros ( sumando población )\n",
    "includeChanges = [\n",
    "    ['France','Wallis and Futuna'],\n",
    "    ['France','New Caledonia'],\n",
    "    ['France','French Guiana'],\n",
    "    ['France','French Polynesia'],\n",
    "    ['France','Guadeloupe'],\n",
    "    ['France','Martinique'],\n",
    "    ['France','Mayotte'],\n",
    "    ['France','Réunion'],\n",
    "    ['France','Saint Barthelemy'],\n",
    "    ['France','Saint Pierre and Miquelon'],\n",
    "    ['Denmark','Faeroe Islands'],\n",
    "    ['Denmark','Greenland'],\n",
    "    ['US','American Samoa'],\n",
    "    ['US','Guam'],\n",
    "    ['US','Northern Mariana Islands'],\n",
    "    ['US','Puerto Rico'],\n",
    "    ['US','U.S. Virgin Islands'],\n",
    "    ['Israel','State of Palestine'],\n",
    "    ['United Kingdom','Falkland Islands'],\n",
    "    ['United Kingdom','Anguilla'],\n",
    "    ['United Kingdom','Bermuda'],\n",
    "    ['United Kingdom','British Virgin Islands'],\n",
    "    ['United Kingdom','Cayman Islands'],\n",
    "    ['United Kingdom','Channel Islands'],\n",
    "    ['United Kingdom','Gibraltar'],\n",
    "    ['United Kingdom','Isle of Man'],\n",
    "    ['United Kingdom','Montserrat'],\n",
    "    ['United Kingdom','Saint Helena'],\n",
    "    ['United Kingdom','Turks and Caicos'],\n",
    "    ['Netherlands','Aruba'],\n",
    "    ['Netherlands','Caribbean Netherlands'],\n",
    "    ['Netherlands','Curaçao'],\n",
    "    ['Netherlands','Sint Maarten'],\n",
    "    ['New Zealand','Cook Islands'],\n",
    "    ['New Zealand','Niue'],\n",
    "    ['New Zealand','Tokelau'],\n",
    "    ['China','Hong Kong'],\n",
    "    ['China','Macao'],\n",
    "    ['Micronesia','Nauru'],\n",
    "    ['Micronesia','Palau'],\n",
    "    ['Morocco','Western Sahara']\n",
    "]\n",
    "\n",
    "for change in includeChanges:  \n",
    "    df_poblacion.index = [change[0] if country == change[1] else country for country in df_poblacion.index]\n",
    "\n",
    "# Suma población de lugares unidos\n",
    "df_poblacion = df_poblacion.groupby(df_poblacion.index).sum()\n",
    "\n",
    "df_poblacion.head(5)"
   ]
  },
  {
   "cell_type": "markdown",
   "id": "05a53d0c",
   "metadata": {},
   "source": [
    "3. Haga un merge de los DataFrame anteriores. El objetivo es asignar un valor de Population a cada elemento del primer DataFrame. Indique las filas donde no se puede realizar el merge y luego descártelas de su DataFrame final"
   ]
  },
  {
   "cell_type": "code",
   "execution_count": null,
   "id": "813d615d",
   "metadata": {},
   "outputs": [],
   "source": [
    "# Elimina lugares en df de población\n",
    "removePop = ['Kiribati', 'North Korea', 'Saint Martin', 'Tonga', 'Turkmenistan', 'Tuvalu']\n",
    "df_poblacion = df_poblacion.drop(removePop,axis=0).sort_index()\n",
    "df_poblacion.head(5)"
   ]
  },
  {
   "cell_type": "code",
   "execution_count": null,
   "id": "e202b7be",
   "metadata": {},
   "outputs": [],
   "source": [
    "# Elimina lugares en df de confirmados\n",
    "removeCon = ['Diamond Princess', 'Kosovo', 'MS Zaandam', 'West Bank and Gaza']\n",
    "df_confirmados = df_confirmados.drop(removeCon,axis=0).sort_index()\n",
    "df_confirmados.head(5)"
   ]
  },
  {
   "cell_type": "code",
   "execution_count": null,
   "id": "cce01a51",
   "metadata": {},
   "outputs": [],
   "source": [
    "# Incluye la población al df de confirmados\n",
    "df_confirmados.insert(0, 'Population', df_poblacion['Population (2020)'])\n",
    "df_confirmados.head(5)"
   ]
  },
  {
   "cell_type": "markdown",
   "id": "f6f7b0e6",
   "metadata": {},
   "source": [
    "4. Repita el procedimiento anterior para los archivos covid19_recuperados.csv y covid19_muertes.csv"
   ]
  },
  {
   "cell_type": "code",
   "execution_count": null,
   "id": "fa8a997f",
   "metadata": {},
   "outputs": [],
   "source": [
    "# Importamos datasets\n",
    "df_recuperados = pd.read_csv('./data/covid19_recuperados.csv',index_col='Country/Region')\n",
    "df_muertes = pd.read_csv('./data/covid19_decesos.csv',index_col='Country/Region')\n",
    "\n",
    "# Elimina columnas Lat, Long y Province/State\n",
    "df_recuperados = df_recuperados.drop(['Lat','Long','Province/State'],axis=1)\n",
    "df_muertes = df_muertes.drop(['Lat','Long','Province/State'],axis=1)\n",
    "\n",
    "# Convierte nombre de columnas a datetime64\n",
    "df_recuperados.columns = pd.to_datetime(df_recuperados.columns).tolist()\n",
    "df_muertes.columns = pd.to_datetime(df_muertes.columns).tolist()\n",
    "\n",
    "# Compacta las filas del mismo país en una y suma sus valores\n",
    "df_recuperados = df_recuperados.groupby(\"Country/Region\").sum()\n",
    "df_muertes = df_muertes.groupby(\"Country/Region\").sum()\n",
    "\n",
    "# Elimina Filas Conflictivas\n",
    "df_recuperados = df_recuperados.drop(removeCon,axis=0).sort_index()\n",
    "df_muertes = df_muertes.drop(removeCon,axis=0).sort_index()\n",
    "\n",
    "# Incluye la población\n",
    "df_recuperados.insert(0, 'Population', df_poblacion['Population (2020)'])\n",
    "df_muertes.insert(0, 'Population', df_poblacion['Population (2020)'])"
   ]
  },
  {
   "cell_type": "code",
   "execution_count": null,
   "id": "a58fa1e0",
   "metadata": {},
   "outputs": [],
   "source": [
    "# Verifica recuperados\n",
    "df_recuperados.head(5)"
   ]
  },
  {
   "cell_type": "code",
   "execution_count": null,
   "id": "12e1f4e9",
   "metadata": {
    "scrolled": true
   },
   "outputs": [],
   "source": [
    "# Verifica muertes\n",
    "df_muertes.head(5)"
   ]
  },
  {
   "cell_type": "code",
   "execution_count": null,
   "id": "827abb6f",
   "metadata": {},
   "outputs": [],
   "source": [
    "# Dudas:"
   ]
  },
  {
   "cell_type": "code",
   "execution_count": null,
   "id": "87e97ed0",
   "metadata": {},
   "outputs": [],
   "source": [
    "# Unir Wallis and Futuna con Francia ???\n",
    "# Unir New Caledonia con Francia ???\n",
    "# Unir French Guiana con Francia ???\n",
    "# Unir French Polynesia con Francia ???\n",
    "# Unir Guadeloupe con Francia ???\n",
    "# Unir Martinique con Francia ???\n",
    "# Unir Mayotte con Francia ???\n",
    "# Unir Réunion con Francia ???\n",
    "# Unir Saint Barthelemy con Francia ???\n",
    "# Unir Saint Pierre and Miquelon con Francia ???\n",
    "# Unir Faeroe Islands con Dinamarca ???\n",
    "# Unir Greenland con Dinamarca ???\n",
    "# Unir American Samoa con USA ???\n",
    "# Unir Guam con USA ???\n",
    "# Unir Northern Mariana Islands con USA ???\n",
    "# Unir Puerto Rico con USA ???\n",
    "# Unir U.S. Virgin Islands con USA ???\n",
    "# Unir palestina con isrrael ???\n",
    "# Unir Falkland Islands (malvinas) con UK ???\n",
    "# Unir Anguilla con UK ???\n",
    "# Unir Bermudas con UK ???\n",
    "# Unir British Virgin Islands con UK ???\n",
    "# Unir Cayman Island con UK ???\n",
    "# Unir Channel Islands con UK ???????????????????????????????????????\n",
    "# Unir Gibraltar con UK ???\n",
    "# Unir Isle of Man con UK ???\n",
    "# Unir Montserrat con UK ???\n",
    "# Unir Saint Helena con UK ???\n",
    "# Unir Turks and Caicos con UK ???\n",
    "# Unir Aruba con paises bajos ???\n",
    "# Unir Caribbean Netherlands con paises bajos ???\n",
    "# Unir Curaçao con paises bajos ???\n",
    "# Unir Sint Maarten con Paises Bajos ???\n",
    "# Unir Cook Islands con Nueva Zelanda ???\n",
    "# Unir Niue con Nueva Zelanda ???\n",
    "# Unir Tokelau con Nueva Zelanda ???\n",
    "# Unir Hong Kong con China ???\n",
    "# Unir Macao con China ???\n",
    "# Unir Nauru con Micronesia ???\n",
    "# Unir Palau con Micronesia ???\n",
    "# Unir Western Sahara con Morocco ???\n",
    "\n",
    "# Saint Martin unir con Francia o Paises Bajos ???\n",
    "\n",
    "# Descartar Kiribati ??\n",
    "# Descartar North Korea ??\n",
    "# Descartar Tonga ??\n",
    "# Descartar Turkmenistan ??\n",
    "# Descartar Tuvalu ??\n",
    "# Descartar Palau o añadir a Micronesia ??"
   ]
  },
  {
   "cell_type": "markdown",
   "id": "567556a6",
   "metadata": {},
   "source": [
    "## Análisis global (1.5pt)\n",
    "1. Obtenga la cantidad total a la fecha (26 de Abril) de los casos (a) confirmados, (b) cerrados (recuperados más decesos) y (c) activos (confirmados menos cerrados) por país. En base a estas cantidades calcule el porcentaje de\n",
    "    - casos activos con respecto al total de confirmados\n",
    "    - decesos con respecto al total de casos cerrados\n",
    "    - recuperados con respecto al total de casos cerrados"
   ]
  },
  {
   "cell_type": "code",
   "execution_count": null,
   "id": "d3cec2a7",
   "metadata": {},
   "outputs": [],
   "source": [
    "# Totales\n",
    "\n",
    "# Calcula casos confirmados globales hasta el 26 de abril\n",
    "total_confirmados = df_confirmados[df_confirmados.columns[-1]]\n",
    "\n",
    "# Calcula casos recuperados globales hasta el 26 de abril\n",
    "total_recuperados = df_recuperados[df_recuperados.columns[-1]]\n",
    "\n",
    "# Calcula decesos globales hasta el 26 de abril\n",
    "total_muertes = df_muertes[df_muertes.columns[-1]]\n",
    "\n",
    "# Calcula casos cerrados (recuperados más decesos) hasta el 26 de abril\n",
    "total_cerrados = total_recuperados + total_muertes\n",
    "\n",
    "# Calcula casos activos (confirmados menos cerrados) hasta el 26 de abril\n",
    "total_activos = total_confirmados - total_cerrados\n",
    "\n",
    "# Porcentajes\n",
    "\n",
    "# Porcentaje de casos activos con respecto al total de confirmados\n",
    "p_activos_confirmados = 100.0 * total_activos.astype('float64')/total_confirmados.astype('float64')\n",
    "\n",
    "# Porcentaje de decesos con respecto al total de casos cerrados\n",
    "p_muertes_cerrados = 100.0 * total_muertes.astype('float64')/total_cerrados.astype('float64')\n",
    "\n",
    "# Porcentaje de recuperados con respecto al total de casos cerrados\n",
    "p_recuperados_cerrados = 100.0 * total_recuperados.astype('float64')/total_cerrados.astype('float64')"
   ]
  },
  {
   "cell_type": "markdown",
   "id": "c99e9e23",
   "metadata": {},
   "source": [
    "2. Luego calcule las siguientes tasas en base a información a la fecha\n",
    "    - Tasa de incidencia: confirmados por 100.000 dividido población total\n",
    "    - Tasa de recuperación: recuperados por 100.000 dividido población total\n",
    "    - Tasa de mortalidad: decesos por 100.000 dividido población total"
   ]
  },
  {
   "cell_type": "code",
   "execution_count": null,
   "id": "77564b4e",
   "metadata": {},
   "outputs": [],
   "source": [
    "# Tasas\n",
    "\n",
    "# Población por país (double)\n",
    "poblacion_total = df_poblacion['Population (2020)'].astype('float64')\n",
    "\n",
    "# Tasa de incidencia\n",
    "tasa_incidencia = (100000.0 * total_confirmados)/poblacion_total\n",
    "\n",
    "# Tasa de recuperación\n",
    "tasa_recuperacion = (100000.0 * total_recuperados)/poblacion_total\n",
    "\n",
    "# Tasa de mortalidad\n",
    "tasa_mortalidad = (100000.0 * total_muertes)/poblacion_total"
   ]
  },
  {
   "cell_type": "markdown",
   "id": "ee7d32a8",
   "metadata": {},
   "source": [
    "En el archivo de recuperados, varios países presentan información aparentemente errónea.\n",
    "\n",
    "Por ejemplo, en Estados Unidos ('US') y en Suecia ('Sweden') se reportan cero recuperados para todos los días. En otros países se reportan cantidades decrecientes de recuperados, lo cual no tiene sentido, ya que el resto de países reportan cantidad acumulada de recuperados."
   ]
  },
  {
   "cell_type": "code",
   "execution_count": null,
   "id": "6e6372ed",
   "metadata": {},
   "outputs": [],
   "source": [
    "recuperados_cero = ['US', 'Sweden', 'Serbia', 'Belgium']\n",
    "recuperados_decrecientes = []"
   ]
  },
  {
   "cell_type": "markdown",
   "id": "8c266341",
   "metadata": {},
   "source": [
    "3. En base a lo anterior muestre los nombres y los valores de los 5 países con\n",
    "    - La mayor y menor tasa de incidencia, respectivamente\n",
    "    - La mayor y menor tasa de recuperación, respectivamente\n",
    "    - La mayor y menor tasa de mortalidad, respectivamente"
   ]
  },
  {
   "cell_type": "code",
   "execution_count": null,
   "id": "0a198e12",
   "metadata": {},
   "outputs": [],
   "source": [
    "# Ordenamos en orden creciente cada df de tasas\n",
    "tasa_incidencia_sorted = tasa_incidencia.sort_values()\n",
    "tasa_recuperacion_sorted = tasa_recuperacion.sort_values()\n",
    "tasa_mortalidad_sorted = tasa_mortalidad.sort_values()\n",
    "\n",
    "# Obtenemos 5 mínimos en cada caso\n",
    "tasa_incidencia_mins = tasa_incidencia_sorted[:5]\n",
    "tasa_recuperacion_mins = tasa_recuperacion_sorted[:9] # Primeros 4 no son confiables\n",
    "tasa_mortalidad_mins = tasa_mortalidad_sorted[:5]\n",
    "\n",
    "# Obtenemos 5 máximos en cada caso\n",
    "tasa_incidencia_maxs = tasa_incidencia_sorted[-5:]\n",
    "tasa_recuperacion_maxs = tasa_recuperacion_sorted[-5:]\n",
    "tasa_mortalidad_maxs = tasa_mortalidad_sorted[-5:]"
   ]
  },
  {
   "cell_type": "code",
   "execution_count": null,
   "id": "d5e28f5d",
   "metadata": {},
   "outputs": [],
   "source": [
    "# Muestra min y max tasas de incidencia\n",
    "print(\"Paises con tasas de incidencia mínima:\")\n",
    "display(tasa_incidencia_mins)\n",
    "print(\"Paises con tasas de incidencia máxima:\")\n",
    "display(tasa_incidencia_maxs)"
   ]
  },
  {
   "cell_type": "code",
   "execution_count": null,
   "id": "303c2c19",
   "metadata": {},
   "outputs": [],
   "source": [
    "# Muestra min y max tasas de recuperacion\n",
    "print(\"Paises con tasas de recuperación mínima:\")\n",
    "display(tasa_recuperacion_mins)\n",
    "print(\"Paises con tasas de recuperación máxima:\")\n",
    "display(tasa_recuperacion_maxs)"
   ]
  },
  {
   "cell_type": "markdown",
   "id": "b3d87adb",
   "metadata": {},
   "source": [
    "Serbia, Bélgica, Suecia y Estados Unidos reportan cero recupardos, y estimamos que esa información podría no ser verídica."
   ]
  },
  {
   "cell_type": "code",
   "execution_count": null,
   "id": "5b64b0f4",
   "metadata": {},
   "outputs": [],
   "source": [
    "# Muestra min y max tasas de mortalidad\n",
    "print(\"Paises con tasas de mortalidad mínima:\")\n",
    "display(tasa_mortalidad_mins)\n",
    "print(\"Paises con tasas de mortalidad máxima:\")\n",
    "display(tasa_mortalidad_maxs)"
   ]
  },
  {
   "cell_type": "markdown",
   "id": "533e8114",
   "metadata": {},
   "source": [
    "4. Responda, analice y discuta: ¿En qué lugar/ranking se encuentra Chile con respecto a cada una de las métricas de los puntos anteriores? ¿A qué países de la OCDE se parece más? ¿A qué paises de latinoamérica se parece más?"
   ]
  },
  {
   "cell_type": "code",
   "execution_count": 88,
   "id": "6d087ae1",
   "metadata": {
    "scrolled": true
   },
   "outputs": [
    {
     "ename": "AttributeError",
     "evalue": "'Series' object has no attribute 'ix'",
     "output_type": "error",
     "traceback": [
      "\u001b[0;31m---------------------------------------------------------------------------\u001b[0m",
      "\u001b[0;31mAttributeError\u001b[0m                            Traceback (most recent call last)",
      "\u001b[0;32m<ipython-input-88-3d08cf15be96>\u001b[0m in \u001b[0;36m<module>\u001b[0;34m\u001b[0m\n\u001b[1;32m      6\u001b[0m                'Chile', 'Slovenia', 'Israel', 'Estonia', 'Latvia', 'Lithuania', 'Colombia']\n\u001b[1;32m      7\u001b[0m \u001b[0;34m\u001b[0m\u001b[0m\n\u001b[0;32m----> 8\u001b[0;31m \u001b[0mtasa_incidencia_sorted_solo_ocde\u001b[0m \u001b[0;34m=\u001b[0m \u001b[0mtasa_incidencia\u001b[0m\u001b[0;34m.\u001b[0m\u001b[0mix\u001b[0m\u001b[0;34m[\u001b[0m\u001b[0mpaises_ocde\u001b[0m\u001b[0;34m]\u001b[0m\u001b[0;34m\u001b[0m\u001b[0;34m\u001b[0m\u001b[0m\n\u001b[0m",
      "\u001b[0;32m~/.python_envs/uno/lib/python3.8/site-packages/pandas/core/generic.py\u001b[0m in \u001b[0;36m__getattr__\u001b[0;34m(self, name)\u001b[0m\n\u001b[1;32m   5463\u001b[0m             \u001b[0;32mif\u001b[0m \u001b[0mself\u001b[0m\u001b[0;34m.\u001b[0m\u001b[0m_info_axis\u001b[0m\u001b[0;34m.\u001b[0m\u001b[0m_can_hold_identifiers_and_holds_name\u001b[0m\u001b[0;34m(\u001b[0m\u001b[0mname\u001b[0m\u001b[0;34m)\u001b[0m\u001b[0;34m:\u001b[0m\u001b[0;34m\u001b[0m\u001b[0;34m\u001b[0m\u001b[0m\n\u001b[1;32m   5464\u001b[0m                 \u001b[0;32mreturn\u001b[0m \u001b[0mself\u001b[0m\u001b[0;34m[\u001b[0m\u001b[0mname\u001b[0m\u001b[0;34m]\u001b[0m\u001b[0;34m\u001b[0m\u001b[0;34m\u001b[0m\u001b[0m\n\u001b[0;32m-> 5465\u001b[0;31m             \u001b[0;32mreturn\u001b[0m \u001b[0mobject\u001b[0m\u001b[0;34m.\u001b[0m\u001b[0m__getattribute__\u001b[0m\u001b[0;34m(\u001b[0m\u001b[0mself\u001b[0m\u001b[0;34m,\u001b[0m \u001b[0mname\u001b[0m\u001b[0;34m)\u001b[0m\u001b[0;34m\u001b[0m\u001b[0;34m\u001b[0m\u001b[0m\n\u001b[0m\u001b[1;32m   5466\u001b[0m \u001b[0;34m\u001b[0m\u001b[0m\n\u001b[1;32m   5467\u001b[0m     \u001b[0;32mdef\u001b[0m \u001b[0m__setattr__\u001b[0m\u001b[0;34m(\u001b[0m\u001b[0mself\u001b[0m\u001b[0;34m,\u001b[0m \u001b[0mname\u001b[0m\u001b[0;34m:\u001b[0m \u001b[0mstr\u001b[0m\u001b[0;34m,\u001b[0m \u001b[0mvalue\u001b[0m\u001b[0;34m)\u001b[0m \u001b[0;34m->\u001b[0m \u001b[0;32mNone\u001b[0m\u001b[0;34m:\u001b[0m\u001b[0;34m\u001b[0m\u001b[0;34m\u001b[0m\u001b[0m\n",
      "\u001b[0;31mAttributeError\u001b[0m: 'Series' object has no attribute 'ix'"
     ]
    }
   ],
   "source": [
    "paises_ocde = ['Canada', 'United States', 'United Kingdom', 'Denmark', 'Iceland', 'Norway',\n",
    "               'Turkey','Spain', 'Portugal', 'France', 'Ireland', 'Belgium', 'Germany',\n",
    "               'Greece', 'Sweden', 'Switzerland','Austria', 'Netherlands', 'Luxembourg',\n",
    "               'Italy', 'Japan', 'Finland', 'Australia', 'New Zealand', 'Mexico',\n",
    "               'Czech Republic (Czechia)','Hungary', 'Poland', 'South Korea', 'Slovakia',\n",
    "               'Chile', 'Slovenia', 'Israel', 'Estonia', 'Latvia', 'Lithuania', 'Colombia']\n",
    "\n",
    "# tasa_incidencia_sorted_solo_ocde = tasa_incidencia.ix[paises_ocde]\n"
   ]
  },
  {
   "cell_type": "code",
   "execution_count": 87,
   "id": "f67151b6",
   "metadata": {},
   "outputs": [
    {
     "name": "stdout",
     "output_type": "stream",
     "text": [
      "Tasa de incidencia en Chile: 6108.958633515813\n",
      "Puesto de Chile en el ranking mundial de incidencia: 147 \n",
      "\n",
      "Tasa de recuperación en Chile: 5745.315716882119\n",
      "Puesto de Chile en el ranking mundial de recuperacion: 160 \n",
      "\n",
      "Tasa de mortalidad en Chile: 5745.315716882119\n",
      "Puesto de Chile en el ranking mundial de mortalidad: 156 \n",
      "\n"
     ]
    }
   ],
   "source": [
    "print('Tasa de incidencia en Chile:', tasa_incidencia.at['Chile'])\n",
    "print('Puesto de Chile en el ranking mundial de incidencia:',\n",
    "      tasa_incidencia_sorted.index.get_loc('Chile'), '\\n')\n",
    "\n",
    "print('Tasa de recuperación en Chile:', tasa_recuperacion.at['Chile'])\n",
    "print('Puesto de Chile en el ranking mundial de recuperacion:',\n",
    "      tasa_recuperacion_sorted.index.get_loc('Chile'), '\\n')\n",
    "\n",
    "print('Tasa de mortalidad en Chile:', tasa_recuperacion.at['Chile'])\n",
    "print('Puesto de Chile en el ranking mundial de mortalidad:',\n",
    "      tasa_mortalidad_sorted.index.get_loc('Chile'), '\\n')"
   ]
  },
  {
   "cell_type": "code",
   "execution_count": null,
   "id": "b517c07f",
   "metadata": {},
   "outputs": [],
   "source": []
  }
 ],
 "metadata": {
  "kernelspec": {
   "display_name": "Python 3",
   "language": "python",
   "name": "python3"
  },
  "language_info": {
   "codemirror_mode": {
    "name": "ipython",
    "version": 3
   },
   "file_extension": ".py",
   "mimetype": "text/x-python",
   "name": "python",
   "nbconvert_exporter": "python",
   "pygments_lexer": "ipython3",
   "version": "3.8.5"
  }
 },
 "nbformat": 4,
 "nbformat_minor": 5
}
