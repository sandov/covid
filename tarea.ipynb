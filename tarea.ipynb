{
 "cells": [
  {
   "cell_type": "markdown",
   "id": "23fb5b9d",
   "metadata": {},
   "source": [
    "# Explorando datos mundiales de COVID-19"
   ]
  },
  {
   "cell_type": "code",
   "execution_count": null,
   "id": "d175da2c",
   "metadata": {},
   "outputs": [],
   "source": [
    "import numpy as np\n",
    "import pandas as pd"
   ]
  },
  {
   "cell_type": "markdown",
   "id": "8ba69afd",
   "metadata": {},
   "source": [
    "### Preparación de datos"
   ]
  },
  {
   "cell_type": "markdown",
   "id": "976eafa8",
   "metadata": {},
   "source": [
    "Importamos los datos a un dataframe de pandas"
   ]
  },
  {
   "cell_type": "code",
   "execution_count": null,
   "id": "86007ac7",
   "metadata": {},
   "outputs": [],
   "source": [
    "df_confirmados = pd.read_csv('./data/covid19_confirmados.csv')\n",
    "df_confirmados.head(5)"
   ]
  },
  {
   "cell_type": "markdown",
   "id": "d4c1bef7",
   "metadata": {},
   "source": [
    "Crearemos un MultiIndex con las columnas 'Country/Region' y 'Province/State' para facilitar el proceso de agrupar las provincias de cada país en una sola fila."
   ]
  },
  {
   "cell_type": "code",
   "execution_count": null,
   "id": "9657f74a",
   "metadata": {},
   "outputs": [],
   "source": [
    "df_confirmados.set_index(keys=['Country/Region', 'Province/State'], drop=True,inplace=True)"
   ]
  },
  {
   "cell_type": "code",
   "execution_count": null,
   "id": "d19d6850",
   "metadata": {},
   "outputs": [],
   "source": [
    "df_confirmados.head(5)"
   ]
  },
  {
   "cell_type": "markdown",
   "id": "0acc71ff",
   "metadata": {},
   "source": [
    "Eliminamos las columnas \"Lat\" y \"Long\":"
   ]
  },
  {
   "cell_type": "code",
   "execution_count": null,
   "id": "f4afb727",
   "metadata": {},
   "outputs": [],
   "source": [
    "df_confirmados.drop(labels=['Lat', 'Long'], axis=1, inplace=True)"
   ]
  },
  {
   "cell_type": "code",
   "execution_count": null,
   "id": "f00f05f0",
   "metadata": {},
   "outputs": [],
   "source": [
    "df_confirmados.head(5)"
   ]
  },
  {
   "cell_type": "markdown",
   "id": "47edf7ae",
   "metadata": {},
   "source": [
    "Luego, reinterpretamos las etiquetas de fecha como Timestamps en lugar de simples objetos.\n",
    "\n",
    "Para eso, le aplicamos a cada columna la función `pd.to_datetime`."
   ]
  },
  {
   "cell_type": "code",
   "execution_count": null,
   "id": "83a1887f",
   "metadata": {},
   "outputs": [],
   "source": [
    "df_confirmados.rename(mapper=pd.to_datetime, axis='columns');\n",
    "df_confirmados.head(5)"
   ]
  },
  {
   "cell_type": "markdown",
   "id": "3d71fa26",
   "metadata": {},
   "source": [
    "Ahora, reducimos el índice Province/State, para que quede solo una fila por país:"
   ]
  },
  {
   "cell_type": "code",
   "execution_count": null,
   "id": "dd1a956d",
   "metadata": {},
   "outputs": [],
   "source": [
    "df_confirmados = df_confirmados.groupby(by='Country/Region').aggregate(np.sum)"
   ]
  },
  {
   "cell_type": "code",
   "execution_count": null,
   "id": "662d508e",
   "metadata": {},
   "outputs": [],
   "source": [
    "df_confirmados.head(5)"
   ]
  },
  {
   "cell_type": "code",
   "execution_count": null,
   "id": "3f9ea614",
   "metadata": {},
   "outputs": [],
   "source": []
  }
 ],
 "metadata": {
  "kernelspec": {
   "display_name": "Python 3",
   "language": "python",
   "name": "python3"
  },
  "language_info": {
   "codemirror_mode": {
    "name": "ipython",
    "version": 3
   },
   "file_extension": ".py",
   "mimetype": "text/x-python",
   "name": "python",
   "nbconvert_exporter": "python",
   "pygments_lexer": "ipython3",
   "version": "3.8.5"
  }
 },
 "nbformat": 4,
 "nbformat_minor": 5
}
