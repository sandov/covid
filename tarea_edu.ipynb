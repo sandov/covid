{
 "cells": [
  {
   "cell_type": "markdown",
   "metadata": {},
   "source": [
    "# Explorando datos mundiales de COVID-19"
   ]
  },
  {
   "cell_type": "code",
   "execution_count": null,
   "metadata": {},
   "outputs": [],
   "source": [
    "import pandas as pd"
   ]
  },
  {
   "cell_type": "markdown",
   "metadata": {},
   "source": [
    "### Preparación de datos (1.5pt)\n",
    "\n",
    "1. Explore el archivo covid19_confirmados.csv y configure la función read_csv de pandas para importarlo como un DataFrame.\n",
    "    - Utilice el nombre de país como índice principal\n",
    "    - Elimine las columnas Lat y Long\n",
    "    - Use TimeStamps para los \"nombres de columna\" asociados a fechas\n",
    "    - Reduzca la columna Province/State, el DataFrame resultante debe tener los totales a nivel país"
   ]
  },
  {
   "cell_type": "code",
   "execution_count": null,
   "metadata": {},
   "outputs": [],
   "source": [
    "# Importa utilizando 'Country/Region' como índice\n",
    "df_confirmados = pd.read_csv('./data/covid19_confirmados.csv',index_col='Country/Region')\n",
    "\n",
    "# Elimina columnas Lat, Long y Province/State\n",
    "df_confirmados = df_confirmados.drop(['Lat','Long','Province/State'],axis=1)\n",
    "\n",
    "# Convierte nombre de columnas a datetime64\n",
    "df_confirmados.columns = pd.to_datetime(df_confirmados.columns).tolist()\n",
    "\n",
    "# Compacta las filas del mismo país en una y suma sus valores\n",
    "df_confirmados = df_confirmados.groupby(\"Country/Region\").sum()"
   ]
  },
  {
   "cell_type": "code",
   "execution_count": null,
   "metadata": {},
   "outputs": [],
   "source": [
    "# Verificamos tipo de nombres de columna\n",
    "df_confirmados.columns[0]"
   ]
  },
  {
   "cell_type": "code",
   "execution_count": null,
   "metadata": {},
   "outputs": [],
   "source": [
    "# Verificamos dataset\n",
    "df_confirmados.head(5)"
   ]
  },
  {
   "cell_type": "markdown",
   "metadata": {},
   "source": [
    "2. Explore el archivo population_by_country_2020.csv y configure la función read_csv de pandas para importarlo como un DataFrame.\n",
    "    - Utilice el nombre de país como índice principal. Algunos siglas o nombres podrían no calzar con el DataFrame anterior, modifíquelos manualmente o usando pandas."
   ]
  },
  {
   "cell_type": "code",
   "execution_count": null,
   "metadata": {
    "scrolled": true
   },
   "outputs": [],
   "source": [
    "# Importamos dataset utilizando 'Country (or dependency)' como índice principal\n",
    "df_population = pd.read_csv('./data/population_by_country_2020.csv',usecols=['Country (or dependency)','Population (2020)'],index_col='Country (or dependency)')\n",
    "\n",
    "# Cambio de algunos símbolos\n",
    "symbolChanges = [\n",
    "    ['&', 'and'],\n",
    "    ['St.', 'Saint'],\n",
    "    ['ô', 'o']\n",
    "]\n",
    "for change in symbolChanges:\n",
    "    df_population.index = [country.replace(change[0], change[1]) for country in df_population.index]\n",
    "\n",
    "\n",
    "# Cambiamos valores específicos\n",
    "fullChanges = [\n",
    "    ['US','United States'],\n",
    "    ['Burma','Myanmar'],\n",
    "    ['Korea, South','South Korea'],\n",
    "    ['Taiwan*','Taiwan'],\n",
    "    ['Congo (Kinshasa)','DR Congo'],\n",
    "    ['Congo (Brazzaville)','Congo'],\n",
    "    ['Czechia','Czech Republic (Czechia)'],\n",
    "    ['Saint Vincent and the Grenadines','Saint Vincent and Grenadines']\n",
    "]\n",
    "\n",
    "for change in fullChanges:  \n",
    "    df_population.index = [change[0] if country == change[1] else country for country in df_population.index]\n",
    "\n",
    "\n",
    "# Incluimos sectores dentro de otros ( sumando población )\n",
    "includeChanges = [\n",
    "    ['France','Wallis and Futuna'],\n",
    "    ['France','New Caledonia'],\n",
    "    ['France','French Guiana'],\n",
    "    ['France','French Polynesia'],\n",
    "    ['France','Guadeloupe'],\n",
    "    ['France','Martinique'],\n",
    "    ['France','Mayotte'],\n",
    "    ['France','Réunion'],\n",
    "    ['France','Saint Barthelemy'],\n",
    "    ['France','Saint Pierre and Miquelon'],\n",
    "    ['Denmark','Faeroe Islands'],\n",
    "    ['Denmark','Greenland'],\n",
    "    ['US','American Samoa'],\n",
    "    ['US','Guam'],\n",
    "    ['US','Northern Mariana Islands'],\n",
    "    ['US','Puerto Rico'],\n",
    "    ['US','U.S. Virgin Islands'],\n",
    "    ['Israel','State of Palestine'],\n",
    "    ['United Kingdom','Falkland Islands'],\n",
    "    ['United Kingdom','Anguilla'],\n",
    "    ['United Kingdom','Bermuda'],\n",
    "    ['United Kingdom','British Virgin Islands'],\n",
    "    ['United Kingdom','Cayman Islands'],\n",
    "    ['United Kingdom','Channel Islands'],\n",
    "    ['United Kingdom','Gibraltar'],\n",
    "    ['United Kingdom','Isle of Man'],\n",
    "    ['United Kingdom','Montserrat'],\n",
    "    ['United Kingdom','Saint Helena'],\n",
    "    ['United Kingdom','Turks and Caicos'],\n",
    "    ['Netherlands','Aruba'],\n",
    "    ['Netherlands','Caribbean Netherlands'],\n",
    "    ['Netherlands','Curaçao'],\n",
    "    ['Netherlands','Sint Maarten'],\n",
    "    ['New Zealand','Cook Islands'],\n",
    "    ['New Zealand','Niue'],\n",
    "    ['New Zealand','Tokelau'],\n",
    "    ['China','Hong Kong'],\n",
    "    ['China','Macao'],\n",
    "    ['Micronesia','Nauru'],\n",
    "    ['Micronesia','Palau'],\n",
    "    ['Morocco','Western Sahara']\n",
    "    \n",
    "]\n",
    "\n",
    "for change in includeChanges:  \n",
    "    df_population.index = [change[0] if country == change[1] else country for country in df_population.index]\n",
    "\n",
    "# Suma población de lugares unidos\n",
    "df_population = df_population.groupby(df_population.index).sum()\n",
    "\n",
    "df_population.head(5)"
   ]
  },
  {
   "cell_type": "markdown",
   "metadata": {},
   "source": [
    "3. Haga un merge de los DataFrame anteriores. El objetivo es asignar un valor de Population a cada elemento del primer DataFrame. Indique las filas donde no se puede realizar el merge y luego descártelas de su DataFrame final"
   ]
  },
  {
   "cell_type": "code",
   "execution_count": null,
   "metadata": {},
   "outputs": [],
   "source": [
    "# Elimina lugares en df de población\n",
    "removePop = ['Kiribati', 'North Korea', 'Saint Martin', 'Tonga', 'Turkmenistan', 'Tuvalu']\n",
    "df_population = df_population.drop(removePop,axis=0).sort_index()\n",
    "df_population.head(5)"
   ]
  },
  {
   "cell_type": "code",
   "execution_count": null,
   "metadata": {},
   "outputs": [],
   "source": [
    "# Elimina lugares en df de confirmados\n",
    "removeCon = ['Diamond Princess', 'Kosovo', 'MS Zaandam', 'West Bank and Gaza']\n",
    "df_confirmados = df_confirmados.drop(removeCon,axis=0).sort_index()\n",
    "df_confirmados.head(5)"
   ]
  },
  {
   "cell_type": "code",
   "execution_count": null,
   "metadata": {},
   "outputs": [],
   "source": [
    "# Incluye la población al df de confirmados\n",
    "df_confirmados.insert(0, 'Population', df_population['Population (2020)'])\n",
    "df_confirmados.head(5)"
   ]
  },
  {
   "cell_type": "markdown",
   "metadata": {},
   "source": [
    "4. Repita el procedimiento anterior para los archivos covid19_recuperados.csv y covid19_muertes.csv"
   ]
  },
  {
   "cell_type": "code",
   "execution_count": null,
   "metadata": {},
   "outputs": [],
   "source": [
    "# Importamos datasets\n",
    "df_recuperados = pd.read_csv('./data/covid19_recuperados.csv',index_col='Country/Region')\n",
    "df_muertes = pd.read_csv('./data/covid19_decesos.csv',index_col='Country/Region')\n",
    "\n",
    "# Elimina columnas Lat, Long y Province/State\n",
    "df_recuperados = df_recuperados.drop(['Lat','Long','Province/State'],axis=1)\n",
    "df_muertes = df_muertes.drop(['Lat','Long','Province/State'],axis=1)\n",
    "\n",
    "# Convierte nombre de columnas a datetime64\n",
    "df_recuperados.columns = pd.to_datetime(df_recuperados.columns).tolist()\n",
    "df_muertes.columns = pd.to_datetime(df_muertes.columns).tolist()\n",
    "\n",
    "# Compacta las filas del mismo país en una y suma sus valores\n",
    "df_recuperados = df_recuperados.groupby(\"Country/Region\").sum()\n",
    "df_muertes = df_muertes.groupby(\"Country/Region\").sum()\n",
    "\n",
    "# Elimina Filas Confilctivas\n",
    "df_recuperados = df_recuperados.drop(removeCon,axis=0).sort_index()\n",
    "df_muertes = df_muertes.drop(removeCon,axis=0).sort_index()\n",
    "\n",
    "# Incluye la población\n",
    "df_recuperados.insert(0, 'Population', df_population['Population (2020)'])\n",
    "df_muertes.insert(0, 'Population', df_population['Population (2020)'])"
   ]
  },
  {
   "cell_type": "code",
   "execution_count": null,
   "metadata": {},
   "outputs": [],
   "source": [
    "# Verifica recuperados\n",
    "df_recuperados.head(5)"
   ]
  },
  {
   "cell_type": "code",
   "execution_count": null,
   "metadata": {},
   "outputs": [],
   "source": [
    "# Verifica muertes\n",
    "df_muertes.head(5)"
   ]
  },
  {
   "cell_type": "code",
   "execution_count": null,
   "metadata": {},
   "outputs": [],
   "source": []
  },
  {
   "cell_type": "code",
   "execution_count": null,
   "metadata": {},
   "outputs": [],
   "source": []
  },
  {
   "cell_type": "code",
   "execution_count": null,
   "metadata": {},
   "outputs": [],
   "source": []
  },
  {
   "cell_type": "code",
   "execution_count": null,
   "metadata": {},
   "outputs": [],
   "source": []
  },
  {
   "cell_type": "code",
   "execution_count": null,
   "metadata": {},
   "outputs": [],
   "source": []
  },
  {
   "cell_type": "code",
   "execution_count": null,
   "metadata": {},
   "outputs": [],
   "source": []
  },
  {
   "cell_type": "code",
   "execution_count": null,
   "metadata": {},
   "outputs": [],
   "source": [
    "# Verifica índices"
   ]
  },
  {
   "cell_type": "code",
   "execution_count": null,
   "metadata": {},
   "outputs": [],
   "source": [
    "# Ignorarrrr v v v v v"
   ]
  },
  {
   "cell_type": "code",
   "execution_count": null,
   "metadata": {},
   "outputs": [],
   "source": [
    "# Unir Wallis and Futuna con Francia ???\n",
    "# Unir New Caledonia con Francia ???\n",
    "# Unir French Guiana con Francia ???\n",
    "# Unir French Polynesia con Francia ???\n",
    "# Unir Guadeloupe con Francia ???\n",
    "# Unir Martinique con Francia ???\n",
    "# Unir Mayotte con Francia ???\n",
    "# Unir Réunion con Francia ???\n",
    "# Unir Saint Barthelemy con Francia ???\n",
    "# Unir Saint Pierre and Miquelon con Francia ???\n",
    "# Unir Faeroe Islands con Dinamarca ???\n",
    "# Unir Greenland con Dinamarca ???\n",
    "# Unir American Samoa con USA ???\n",
    "# Unir Guam con USA ???\n",
    "# Unir Northern Mariana Islands con USA ???\n",
    "# Unir Puerto Rico con USA ???\n",
    "# Unir U.S. Virgin Islands con USA ???\n",
    "# Unir palestina con isrrael ???\n",
    "# Unir Falkland Islands (malvinas) con UK ???\n",
    "# Unir Anguilla con UK ???\n",
    "# Unir Bermudas con UK ???\n",
    "# Unir British Virgin Islands con UK ???\n",
    "# Unir Cayman Island con UK ???\n",
    "# Unir Channel Islands con UK ???????????????????????????????????????\n",
    "# Unir Gibraltar con UK ???\n",
    "# Unir Isle of Man con UK ???\n",
    "# Unir Montserrat con UK ???\n",
    "# Unir Saint Helena con UK ???\n",
    "# Unir Turks and Caicos con UK ???\n",
    "# Unir Aruba con paises bajos ???\n",
    "# Unir Caribbean Netherlands con paises bajos ???\n",
    "# Unir Curaçao con paises bajos ???\n",
    "# Unir Sint Maarten con Paises Bajos ???\n",
    "# Unir Cook Islands con Nueva Zelanda ???\n",
    "# Unir Niue con Nueva Zelanda ???\n",
    "# Unir Tokelau con Nueva Zelanda ???\n",
    "# Unir Hong Kong con China ???\n",
    "# Unir Macao con China ???\n",
    "# Unir Nauru con Micronesia ???\n",
    "# Unir Palau con Micronesia ???\n",
    "# Unir Western Sahara con Morocco ???\n",
    "\n",
    "# Saint Martin unir con Francia o Paises Bajos ???\n",
    "\n",
    "# Descartar Kiribati ??\n",
    "# Descartar North Korea ??\n",
    "# Descartar Tonga ??\n",
    "# Descartar Turkmenistan ??\n",
    "# Descartar Tuvalu ??\n",
    "# Descartar Palau o añadir a Micronesia ??"
   ]
  },
  {
   "cell_type": "code",
   "execution_count": null,
   "metadata": {},
   "outputs": [],
   "source": [
    "ind2 = df_population.index\n",
    "ind1 = df_recuperados.index\n",
    "notF = []\n",
    "partF = []\n",
    "for ind in ind1:\n",
    "    if ind not in ind2:\n",
    "        notF.append(ind)\n",
    "        \n",
    "for c in notF:\n",
    "    wds = c.split(' ')\n",
    "    for a in ind1:\n",
    "        for w in wds:\n",
    "            if w in a:\n",
    "                partF.append([c,a])\n",
    "                \n",
    "notF"
   ]
  },
  {
   "cell_type": "code",
   "execution_count": null,
   "metadata": {},
   "outputs": [],
   "source": [
    "for country in df_confirmados.index:\n",
    "    if country[0] == 'M':\n",
    "        print(country)"
   ]
  },
  {
   "cell_type": "code",
   "execution_count": null,
   "metadata": {},
   "outputs": [],
   "source": [
    "#df_confirmados.head(400)[0:20]\n",
    "#df_confirmados.dtypes\n",
    "df_confirmados.columns\n"
   ]
  }
 ],
 "metadata": {
  "kernelspec": {
   "display_name": "Python 3",
   "language": "python",
   "name": "python3"
  },
  "language_info": {
   "codemirror_mode": {
    "name": "ipython",
    "version": 3
   },
   "file_extension": ".py",
   "mimetype": "text/x-python",
   "name": "python",
   "nbconvert_exporter": "python",
   "pygments_lexer": "ipython3",
   "version": "3.7.6"
  }
 },
 "nbformat": 4,
 "nbformat_minor": 5
}
